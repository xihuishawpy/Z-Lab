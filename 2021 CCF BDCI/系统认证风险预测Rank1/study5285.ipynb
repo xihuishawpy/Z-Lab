{
 "cells": [
  {
   "cell_type": "markdown",
   "metadata": {},
   "source": [
    "相较于5272，少了一个last_ts2（少了一个时序窗口为2的滞后值），且模型lr从0.06调整至0.08"
   ]
  },
  {
   "cell_type": "code",
   "execution_count": 1,
   "metadata": {},
   "outputs": [],
   "source": [
    "import pandas as pd\n",
    "import numpy as np\n",
    "import lightgbm as lgb\n",
    "from sklearn.model_selection import StratifiedKFold\n",
    "from sklearn.preprocessing import LabelEncoder\n",
    "from matplotlib.pyplot import plot, show\n",
    "from sklearn.metrics import roc_auc_score\n",
    "import json\n",
    "from gensim.models.word2vec import Word2Vec\n",
    "\n",
    "df_train = pd.read_csv('data/train_dataset.csv',sep='\\t')\n",
    "df_test = pd.read_csv('data/test_dataset.csv', sep='\\t')\n",
    "sub = pd.read_csv('data/submit_example.csv')\n",
    "df_test['id'] = sub['id']\n",
    "df = pd.concat([df_train, df_test])"
   ]
  },
  {
   "cell_type": "code",
   "execution_count": 2,
   "metadata": {},
   "outputs": [
    {
     "name": "stdout",
     "output_type": "stream",
     "text": [
      "17\n"
     ]
    }
   ],
   "source": [
    "df['location_first_lvl'] = df['location'].astype(str).apply(lambda x: json.loads(x)['first_lvl'])\n",
    "df['location_sec_lvl'] = df['location'].astype(str).apply(lambda x: json.loads(x)['sec_lvl'])\n",
    "df['location_third_lvl'] = df['location'].astype(str).apply(lambda x: json.loads(x)['third_lvl'])\n",
    "\n",
    "feats = ['user_name', 'action', 'auth_type', 'ip_location_type_keyword', 'ip_risk_level', 'ip', 'location',\n",
    "         'device_model', 'os_type', 'os_version', 'browser_type', 'browser_version', 'bus_system_code', 'op_target',\n",
    "         'location_first_lvl', 'location_sec_lvl', 'location_third_lvl',\n",
    "         ]\n",
    "\n",
    "print(len(feats))"
   ]
  },
  {
   "cell_type": "code",
   "execution_count": 3,
   "metadata": {},
   "outputs": [],
   "source": [
    "cat = []\n",
    "\n",
    "LABEL = 'risk_label'"
   ]
  },
  {
   "cell_type": "code",
   "execution_count": 4,
   "metadata": {},
   "outputs": [],
   "source": [
    "# 特征处理\n",
    "\n",
    "df['sec'] = df.session_id.apply(lambda x:int(x[-7:-5]))\n",
    "df['sec_sin'] = np.sin(df['sec']/60*2*np.pi)\n",
    "df['sec_cos'] = np.cos(df['sec']/60*2*np.pi)\n",
    "\n",
    "df['op_date'] = pd.to_datetime(df['op_date'])\n",
    "df['hour'] = df['op_date'].dt.hour\n",
    "df['weekday'] = df['op_date'].dt.weekday\n",
    "df['year'] = df['op_date'].dt.year\n",
    "df['month'] = df['op_date'].dt.month\n",
    "df['day'] = df['op_date'].dt.day\n",
    "# 转Unix时间戳\n",
    "df['op_ts'] = df[\"op_date\"].values.astype(np.int64) // 10 ** 9\n",
    "\n",
    "# 根据用户、时间戳排序\n",
    "df = df.sort_values(by=['user_name', 'op_ts']).reset_index(drop=True)\n",
    "\n",
    "df['last_ts'] = df.groupby(['user_name'])['op_ts'].shift(1)\n",
    "df['last_ts2'] = df.groupby(['user_name'])['op_ts'].shift(2)\n",
    "df['ts_diff'] = df['op_ts'] - df['last_ts']\n",
    "df['ts_diff2'] = df['op_ts'] - df['last_ts2']"
   ]
  },
  {
   "cell_type": "code",
   "execution_count": 5,
   "metadata": {},
   "outputs": [],
   "source": [
    "feats += ['sec',\n",
    "          'sec_sin', 'sec_cos',\n",
    "          'op_ts', 'last_ts', 'ts_diff',\n",
    "          # 'last_ts2',\n",
    "          'ts_diff2',\n",
    "          ]"
   ]
  },
  {
   "cell_type": "code",
   "execution_count": 6,
   "metadata": {},
   "outputs": [],
   "source": [
    "for name in ['auth_type']:\n",
    "    df[name+'_fillna'] = df[name].astype('str')\n",
    "    sent = df.groupby(['user_name', 'year', 'month', 'day'])[name+'_fillna'].agg(list).values\n",
    "\n",
    "    vec_size = 6\n",
    "    w2v_model = Word2Vec(sentences=sent, vector_size=vec_size, window=12, min_count=1, workers=1)\n",
    "    tmp = df[name+'_fillna'].map(lambda x: w2v_model.wv[x])\n",
    "    tmp = pd.DataFrame(list(tmp))\n",
    "    tmp.columns = ['_'.join([name, 'emb', str(i)]) for i in range(vec_size)]\n",
    "    df = pd.concat([df, tmp], axis=1)\n",
    "    feats += list(tmp.columns)"
   ]
  },
  {
   "cell_type": "code",
   "execution_count": 7,
   "metadata": {},
   "outputs": [
    {
     "name": "stdout",
     "output_type": "stream",
     "text": [
      "nan [-0.13903026  0.03005757  0.25148448  0.9644866  -0.28805935 -0.67375904]\n",
      "pwd [ 0.03973053  0.1891723   0.13216272  1.0011268  -0.16735148 -0.7792582 ]\n",
      "sms [-0.12732314  0.05897151  0.15256187  1.0156738  -0.19783318 -0.69883054]\n",
      "qr [-0.15083304 -0.18690944  0.32928893  1.0530428  -0.14471556 -0.6634975 ]\n",
      "otp [ 0.10661024 -0.01189896  0.15297233  0.95404774 -0.40966824 -0.6917451 ]\n"
     ]
    }
   ],
   "source": [
    "for w in w2v_model.wv.key_to_index:\n",
    "    print(w, w2v_model.wv[w])"
   ]
  },
  {
   "cell_type": "code",
   "execution_count": 8,
   "metadata": {},
   "outputs": [],
   "source": [
    "for name in ['mean', 'std', 'max', 'min', 'median', 'skew']:\n",
    "    for name1 in ['user_name', 'bus_system_code', 'auth_type', 'action',\n",
    "                  ]:  # 'op_target'\n",
    "\n",
    "        df[name1+'_ts_diff_'+name] = df.groupby([name1])['ts_diff'].transform(name)\n",
    "        feats.append(name1+'_ts_diff_'+name)"
   ]
  },
  {
   "cell_type": "code",
   "execution_count": 9,
   "metadata": {},
   "outputs": [],
   "source": [
    "df['if_out'] = (df['location'] == '{\"first_lvl\":\"成都分公司\",\"sec_lvl\":\"9楼\",\"third_lvl\":\"销售部\"}')\n",
    "feats.append('if_out')"
   ]
  },
  {
   "cell_type": "code",
   "execution_count": 10,
   "metadata": {},
   "outputs": [],
   "source": [
    "for name in ['user_name', 'action', 'auth_type', 'ip', 'ip_location_type_keyword', 'ip_risk_level', 'location',\n",
    "             'device_model', 'os_type', 'os_version', 'browser_type', 'browser_version', 'bus_system_code', 'op_target',\n",
    "             'location_first_lvl', 'location_sec_lvl', 'location_third_lvl',\n",
    "             ]+cat:\n",
    "    le = LabelEncoder()\n",
    "    df[name] = le.fit_transform(df[name])\n"
   ]
  },
  {
   "cell_type": "code",
   "execution_count": 11,
   "metadata": {},
   "outputs": [],
   "source": [
    "df_train = df[~df[LABEL].isna()].reset_index(drop=True)\n",
    "df_test = df[df[LABEL].isna()].reset_index(drop=True)"
   ]
  },
  {
   "cell_type": "code",
   "execution_count": 12,
   "metadata": {},
   "outputs": [],
   "source": [
    "params = {\n",
    "    'learning_rate': 0.08,\n",
    "    'boosting_type': 'gbdt',\n",
    "    'objective': 'binary',\n",
    "    'metric': 'auc',\n",
    "    'verbose': -1,\n",
    "    'seed': 2222,\n",
    "    'n_jobs': -1,\n",
    "}"
   ]
  },
  {
   "cell_type": "code",
   "execution_count": 13,
   "metadata": {},
   "outputs": [
    {
     "name": "stdout",
     "output_type": "stream",
     "text": [
      "['user_name', 'action', 'auth_type', 'ip_location_type_keyword', 'ip_risk_level', 'ip', 'location', 'device_model', 'os_type', 'os_version', 'browser_type', 'browser_version', 'bus_system_code', 'op_target', 'location_first_lvl', 'location_sec_lvl', 'location_third_lvl', 'sec', 'sec_sin', 'sec_cos', 'op_ts', 'last_ts', 'ts_diff', 'ts_diff2', 'auth_type_emb_0', 'auth_type_emb_1', 'auth_type_emb_2', 'auth_type_emb_3', 'auth_type_emb_4', 'auth_type_emb_5', 'user_name_ts_diff_mean', 'bus_system_code_ts_diff_mean', 'auth_type_ts_diff_mean', 'action_ts_diff_mean', 'user_name_ts_diff_std', 'bus_system_code_ts_diff_std', 'auth_type_ts_diff_std', 'action_ts_diff_std', 'user_name_ts_diff_max', 'bus_system_code_ts_diff_max', 'auth_type_ts_diff_max', 'action_ts_diff_max', 'user_name_ts_diff_min', 'bus_system_code_ts_diff_min', 'auth_type_ts_diff_min', 'action_ts_diff_min', 'user_name_ts_diff_median', 'bus_system_code_ts_diff_median', 'auth_type_ts_diff_median', 'action_ts_diff_median', 'user_name_ts_diff_skew', 'bus_system_code_ts_diff_skew', 'auth_type_ts_diff_skew', 'action_ts_diff_skew', 'if_out']\n",
      "(15016, 55) (10000, 55)\n"
     ]
    }
   ],
   "source": [
    "print(feats)\n",
    "print(df_train[feats].shape, df_test[feats].shape)"
   ]
  },
  {
   "cell_type": "code",
   "execution_count": 14,
   "metadata": {},
   "outputs": [
    {
     "name": "stdout",
     "output_type": "stream",
     "text": [
      "############################ 2021\n",
      "----------- 0\n"
     ]
    },
    {
     "name": "stderr",
     "output_type": "stream",
     "text": [
      "/home/gitpod/.pyenv/versions/3.8.13/lib/python3.8/site-packages/lightgbm/engine.py:181: UserWarning: 'early_stopping_rounds' argument is deprecated and will be removed in a future release of LightGBM. Pass 'early_stopping()' callback via 'callbacks' argument instead.\n",
      "  _log_warning(\"'early_stopping_rounds' argument is deprecated and will be removed in a future release of LightGBM. \"\n",
      "/home/gitpod/.pyenv/versions/3.8.13/lib/python3.8/site-packages/lightgbm/engine.py:239: UserWarning: 'verbose_eval' argument is deprecated and will be removed in a future release of LightGBM. Pass 'log_evaluation()' callback via 'callbacks' argument instead.\n",
      "  _log_warning(\"'verbose_eval' argument is deprecated and will be removed in a future release of LightGBM. \"\n"
     ]
    },
    {
     "name": "stdout",
     "output_type": "stream",
     "text": [
      "Training until validation scores don't improve for 100 rounds\n",
      "[100]\tvalid_0's auc: 0.513458\n",
      "Early stopping, best iteration is:\n",
      "[4]\tvalid_0's auc: 0.523987\n",
      "----------- 1\n"
     ]
    },
    {
     "name": "stderr",
     "output_type": "stream",
     "text": [
      "/home/gitpod/.pyenv/versions/3.8.13/lib/python3.8/site-packages/lightgbm/engine.py:181: UserWarning: 'early_stopping_rounds' argument is deprecated and will be removed in a future release of LightGBM. Pass 'early_stopping()' callback via 'callbacks' argument instead.\n",
      "  _log_warning(\"'early_stopping_rounds' argument is deprecated and will be removed in a future release of LightGBM. \"\n",
      "/home/gitpod/.pyenv/versions/3.8.13/lib/python3.8/site-packages/lightgbm/engine.py:239: UserWarning: 'verbose_eval' argument is deprecated and will be removed in a future release of LightGBM. Pass 'log_evaluation()' callback via 'callbacks' argument instead.\n",
      "  _log_warning(\"'verbose_eval' argument is deprecated and will be removed in a future release of LightGBM. \"\n"
     ]
    },
    {
     "name": "stdout",
     "output_type": "stream",
     "text": [
      "Training until validation scores don't improve for 100 rounds\n",
      "[100]\tvalid_0's auc: 0.519644\n",
      "[200]\tvalid_0's auc: 0.532107\n",
      "[300]\tvalid_0's auc: 0.54085\n",
      "[400]\tvalid_0's auc: 0.543618\n",
      "Early stopping, best iteration is:\n",
      "[357]\tvalid_0's auc: 0.544446\n",
      "----------- 2\n"
     ]
    },
    {
     "name": "stderr",
     "output_type": "stream",
     "text": [
      "/home/gitpod/.pyenv/versions/3.8.13/lib/python3.8/site-packages/lightgbm/engine.py:181: UserWarning: 'early_stopping_rounds' argument is deprecated and will be removed in a future release of LightGBM. Pass 'early_stopping()' callback via 'callbacks' argument instead.\n",
      "  _log_warning(\"'early_stopping_rounds' argument is deprecated and will be removed in a future release of LightGBM. \"\n",
      "/home/gitpod/.pyenv/versions/3.8.13/lib/python3.8/site-packages/lightgbm/engine.py:239: UserWarning: 'verbose_eval' argument is deprecated and will be removed in a future release of LightGBM. Pass 'log_evaluation()' callback via 'callbacks' argument instead.\n",
      "  _log_warning(\"'verbose_eval' argument is deprecated and will be removed in a future release of LightGBM. \"\n"
     ]
    },
    {
     "name": "stdout",
     "output_type": "stream",
     "text": [
      "Training until validation scores don't improve for 100 rounds\n",
      "[100]\tvalid_0's auc: 0.510688\n",
      "Early stopping, best iteration is:\n",
      "[4]\tvalid_0's auc: 0.522793\n",
      "----------- 3\n",
      "Training until validation scores don't improve for 100 rounds\n"
     ]
    },
    {
     "name": "stderr",
     "output_type": "stream",
     "text": [
      "/home/gitpod/.pyenv/versions/3.8.13/lib/python3.8/site-packages/lightgbm/engine.py:181: UserWarning: 'early_stopping_rounds' argument is deprecated and will be removed in a future release of LightGBM. Pass 'early_stopping()' callback via 'callbacks' argument instead.\n",
      "  _log_warning(\"'early_stopping_rounds' argument is deprecated and will be removed in a future release of LightGBM. \"\n",
      "/home/gitpod/.pyenv/versions/3.8.13/lib/python3.8/site-packages/lightgbm/engine.py:239: UserWarning: 'verbose_eval' argument is deprecated and will be removed in a future release of LightGBM. Pass 'log_evaluation()' callback via 'callbacks' argument instead.\n",
      "  _log_warning(\"'verbose_eval' argument is deprecated and will be removed in a future release of LightGBM. \"\n"
     ]
    },
    {
     "name": "stdout",
     "output_type": "stream",
     "text": [
      "[100]\tvalid_0's auc: 0.513698\n",
      "Early stopping, best iteration is:\n",
      "[54]\tvalid_0's auc: 0.528926\n",
      "----------- 4\n"
     ]
    },
    {
     "name": "stderr",
     "output_type": "stream",
     "text": [
      "/home/gitpod/.pyenv/versions/3.8.13/lib/python3.8/site-packages/lightgbm/engine.py:181: UserWarning: 'early_stopping_rounds' argument is deprecated and will be removed in a future release of LightGBM. Pass 'early_stopping()' callback via 'callbacks' argument instead.\n",
      "  _log_warning(\"'early_stopping_rounds' argument is deprecated and will be removed in a future release of LightGBM. \"\n",
      "/home/gitpod/.pyenv/versions/3.8.13/lib/python3.8/site-packages/lightgbm/engine.py:239: UserWarning: 'verbose_eval' argument is deprecated and will be removed in a future release of LightGBM. Pass 'log_evaluation()' callback via 'callbacks' argument instead.\n",
      "  _log_warning(\"'verbose_eval' argument is deprecated and will be removed in a future release of LightGBM. \"\n"
     ]
    },
    {
     "name": "stdout",
     "output_type": "stream",
     "text": [
      "Training until validation scores don't improve for 100 rounds\n",
      "[100]\tvalid_0's auc: 0.482388\n",
      "Early stopping, best iteration is:\n",
      "[1]\tvalid_0's auc: 0.520745\n",
      "----------- 5\n"
     ]
    },
    {
     "name": "stderr",
     "output_type": "stream",
     "text": [
      "/home/gitpod/.pyenv/versions/3.8.13/lib/python3.8/site-packages/lightgbm/engine.py:181: UserWarning: 'early_stopping_rounds' argument is deprecated and will be removed in a future release of LightGBM. Pass 'early_stopping()' callback via 'callbacks' argument instead.\n",
      "  _log_warning(\"'early_stopping_rounds' argument is deprecated and will be removed in a future release of LightGBM. \"\n",
      "/home/gitpod/.pyenv/versions/3.8.13/lib/python3.8/site-packages/lightgbm/engine.py:239: UserWarning: 'verbose_eval' argument is deprecated and will be removed in a future release of LightGBM. Pass 'log_evaluation()' callback via 'callbacks' argument instead.\n",
      "  _log_warning(\"'verbose_eval' argument is deprecated and will be removed in a future release of LightGBM. \"\n"
     ]
    },
    {
     "name": "stdout",
     "output_type": "stream",
     "text": [
      "Training until validation scores don't improve for 100 rounds\n",
      "[100]\tvalid_0's auc: 0.512654\n",
      "[200]\tvalid_0's auc: 0.502928\n",
      "Early stopping, best iteration is:\n",
      "[101]\tvalid_0's auc: 0.513549\n",
      "----------- 6\n",
      "Training until validation scores don't improve for 100 rounds\n"
     ]
    },
    {
     "name": "stderr",
     "output_type": "stream",
     "text": [
      "/home/gitpod/.pyenv/versions/3.8.13/lib/python3.8/site-packages/lightgbm/engine.py:181: UserWarning: 'early_stopping_rounds' argument is deprecated and will be removed in a future release of LightGBM. Pass 'early_stopping()' callback via 'callbacks' argument instead.\n",
      "  _log_warning(\"'early_stopping_rounds' argument is deprecated and will be removed in a future release of LightGBM. \"\n",
      "/home/gitpod/.pyenv/versions/3.8.13/lib/python3.8/site-packages/lightgbm/engine.py:239: UserWarning: 'verbose_eval' argument is deprecated and will be removed in a future release of LightGBM. Pass 'log_evaluation()' callback via 'callbacks' argument instead.\n",
      "  _log_warning(\"'verbose_eval' argument is deprecated and will be removed in a future release of LightGBM. \"\n"
     ]
    },
    {
     "name": "stdout",
     "output_type": "stream",
     "text": [
      "[100]\tvalid_0's auc: 0.493318\n",
      "Early stopping, best iteration is:\n",
      "[1]\tvalid_0's auc: 0.527102\n",
      "----------- 7\n",
      "Training until validation scores don't improve for 100 rounds\n"
     ]
    },
    {
     "name": "stderr",
     "output_type": "stream",
     "text": [
      "/home/gitpod/.pyenv/versions/3.8.13/lib/python3.8/site-packages/lightgbm/engine.py:181: UserWarning: 'early_stopping_rounds' argument is deprecated and will be removed in a future release of LightGBM. Pass 'early_stopping()' callback via 'callbacks' argument instead.\n",
      "  _log_warning(\"'early_stopping_rounds' argument is deprecated and will be removed in a future release of LightGBM. \"\n",
      "/home/gitpod/.pyenv/versions/3.8.13/lib/python3.8/site-packages/lightgbm/engine.py:239: UserWarning: 'verbose_eval' argument is deprecated and will be removed in a future release of LightGBM. Pass 'log_evaluation()' callback via 'callbacks' argument instead.\n",
      "  _log_warning(\"'verbose_eval' argument is deprecated and will be removed in a future release of LightGBM. \"\n"
     ]
    },
    {
     "name": "stdout",
     "output_type": "stream",
     "text": [
      "[100]\tvalid_0's auc: 0.523377\n",
      "Early stopping, best iteration is:\n",
      "[45]\tvalid_0's auc: 0.530554\n",
      "----------- 8\n",
      "Training until validation scores don't improve for 100 rounds\n"
     ]
    },
    {
     "name": "stderr",
     "output_type": "stream",
     "text": [
      "/home/gitpod/.pyenv/versions/3.8.13/lib/python3.8/site-packages/lightgbm/engine.py:181: UserWarning: 'early_stopping_rounds' argument is deprecated and will be removed in a future release of LightGBM. Pass 'early_stopping()' callback via 'callbacks' argument instead.\n",
      "  _log_warning(\"'early_stopping_rounds' argument is deprecated and will be removed in a future release of LightGBM. \"\n",
      "/home/gitpod/.pyenv/versions/3.8.13/lib/python3.8/site-packages/lightgbm/engine.py:239: UserWarning: 'verbose_eval' argument is deprecated and will be removed in a future release of LightGBM. Pass 'log_evaluation()' callback via 'callbacks' argument instead.\n",
      "  _log_warning(\"'verbose_eval' argument is deprecated and will be removed in a future release of LightGBM. \"\n"
     ]
    },
    {
     "name": "stdout",
     "output_type": "stream",
     "text": [
      "[100]\tvalid_0's auc: 0.523952\n",
      "[200]\tvalid_0's auc: 0.518142\n",
      "Early stopping, best iteration is:\n",
      "[108]\tvalid_0's auc: 0.52684\n",
      "----------- 9\n"
     ]
    },
    {
     "name": "stderr",
     "output_type": "stream",
     "text": [
      "/home/gitpod/.pyenv/versions/3.8.13/lib/python3.8/site-packages/lightgbm/engine.py:181: UserWarning: 'early_stopping_rounds' argument is deprecated and will be removed in a future release of LightGBM. Pass 'early_stopping()' callback via 'callbacks' argument instead.\n",
      "  _log_warning(\"'early_stopping_rounds' argument is deprecated and will be removed in a future release of LightGBM. \"\n",
      "/home/gitpod/.pyenv/versions/3.8.13/lib/python3.8/site-packages/lightgbm/engine.py:239: UserWarning: 'verbose_eval' argument is deprecated and will be removed in a future release of LightGBM. Pass 'log_evaluation()' callback via 'callbacks' argument instead.\n",
      "  _log_warning(\"'verbose_eval' argument is deprecated and will be removed in a future release of LightGBM. \"\n"
     ]
    },
    {
     "name": "stdout",
     "output_type": "stream",
     "text": [
      "Training until validation scores don't improve for 100 rounds\n",
      "[100]\tvalid_0's auc: 0.523476\n",
      "Early stopping, best iteration is:\n",
      "[12]\tvalid_0's auc: 0.567051\n",
      "0.5268267103131414\n",
      "                            name   importance\n",
      "23                      ts_diff2  1098.056300\n",
      "22                       ts_diff  1022.904920\n",
      "20                         op_ts   973.469409\n",
      "19                       sec_cos   593.461085\n",
      "21                       last_ts   553.488940\n",
      "17                           sec   546.794510\n",
      "18                       sec_sin   532.028447\n",
      "50        user_name_ts_diff_skew   277.684437\n",
      "0                      user_name   208.174667\n",
      "31  bus_system_code_ts_diff_mean   193.076955\n"
     ]
    }
   ],
   "source": [
    "seeds = [2021]\n",
    "oof = np.zeros(len(df_train))\n",
    "importance = 0\n",
    "fold_num = 10\n",
    "pred_y = pd.DataFrame()\n",
    "for seed in seeds:\n",
    "    print('############################', seed)\n",
    "    kf = StratifiedKFold(n_splits=fold_num, shuffle=True, random_state=seed)\n",
    "    for fold, (train_idx, val_idx) in enumerate(kf.split(df_train[feats], df_train[LABEL])):\n",
    "        print('-----------', fold)\n",
    "        train = lgb.Dataset(df_train.loc[train_idx, feats],\n",
    "                            df_train.loc[train_idx, LABEL])\n",
    "        val = lgb.Dataset(df_train.loc[val_idx, feats],\n",
    "                          df_train.loc[val_idx, LABEL])\n",
    "        model = lgb.train(params, train, valid_sets=val, num_boost_round=10000,\n",
    "                          early_stopping_rounds=100, verbose_eval=100)\n",
    "\n",
    "        oof[val_idx] += model.predict(df_train.loc[val_idx, feats]) / len(seeds)\n",
    "        pred_y['fold_%d_seed_%d'%(fold, seed)] = model.predict(df_test[feats])\n",
    "        importance += model.feature_importance(importance_type='gain')/fold_num\n",
    "\n",
    "\n",
    "df_train['oof'] = oof\n",
    "score = roc_auc_score(df_train[LABEL], df_train['oof'])\n",
    "print(score)\n",
    "\n",
    "feats_importance = pd.DataFrame()\n",
    "feats_importance['name'] = feats\n",
    "feats_importance['importance'] = importance\n",
    "print(feats_importance.sort_values('importance', ascending=False)[:10])\n",
    "\n",
    "sub = pd.read_csv('data/submit_example.csv')\n",
    "\n",
    "pred_y = pred_y.mean(axis=1)\n",
    "sub['ret'] = pred_y\n"
   ]
  },
  {
   "cell_type": "code",
   "execution_count": 15,
   "metadata": {},
   "outputs": [],
   "source": [
    "sub[['id', 'ret']].to_csv('./results/lgb_5285.csv', index=False)"
   ]
  }
 ],
 "metadata": {
  "kernelspec": {
   "display_name": "Python 3.8.13 64-bit ('3.8.13')",
   "language": "python",
   "name": "python3"
  },
  "language_info": {
   "codemirror_mode": {
    "name": "ipython",
    "version": 3
   },
   "file_extension": ".py",
   "mimetype": "text/x-python",
   "name": "python",
   "nbconvert_exporter": "python",
   "pygments_lexer": "ipython3",
   "version": "3.8.13"
  },
  "orig_nbformat": 4,
  "vscode": {
   "interpreter": {
    "hash": "110cc1dee26208153f2972f08a2ad52b6a56238dc66d48e87fb757ef2996db56"
   }
  }
 },
 "nbformat": 4,
 "nbformat_minor": 2
}
