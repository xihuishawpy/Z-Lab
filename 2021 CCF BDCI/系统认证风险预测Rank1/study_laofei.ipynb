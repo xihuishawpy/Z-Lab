{
 "cells": [
  {
   "cell_type": "code",
   "execution_count": 63,
   "metadata": {},
   "outputs": [
    {
     "name": "stdout",
     "output_type": "stream",
     "text": [
      "Requirement already satisfied: pandas in /home/gitpod/.pyenv/versions/3.8.13/lib/python3.8/site-packages (1.4.2)\n",
      "Requirement already satisfied: numpy in /home/gitpod/.pyenv/versions/3.8.13/lib/python3.8/site-packages (1.22.4)\n",
      "Requirement already satisfied: lightgbm in /home/gitpod/.pyenv/versions/3.8.13/lib/python3.8/site-packages (3.3.2)\n",
      "Requirement already satisfied: sklearn in /home/gitpod/.pyenv/versions/3.8.13/lib/python3.8/site-packages (0.0)\n",
      "Requirement already satisfied: matplotlib in /home/gitpod/.pyenv/versions/3.8.13/lib/python3.8/site-packages (3.5.2)\n",
      "Requirement already satisfied: imblearn in /home/gitpod/.pyenv/versions/3.8.13/lib/python3.8/site-packages (0.0)\n",
      "Requirement already satisfied: tqdm in /home/gitpod/.pyenv/versions/3.8.13/lib/python3.8/site-packages (4.64.0)\n",
      "Requirement already satisfied: pytz>=2020.1 in /home/gitpod/.pyenv/versions/3.8.13/lib/python3.8/site-packages (from pandas) (2022.1)\n",
      "Requirement already satisfied: python-dateutil>=2.8.1 in /workspace/.pip-modules/lib/python3.8/site-packages (from pandas) (2.8.2)\n",
      "Requirement already satisfied: scipy in /home/gitpod/.pyenv/versions/3.8.13/lib/python3.8/site-packages (from lightgbm) (1.8.1)\n",
      "Requirement already satisfied: wheel in /home/gitpod/.pyenv/versions/3.8.13/lib/python3.8/site-packages (from lightgbm) (0.37.1)\n",
      "Requirement already satisfied: scikit-learn!=0.22.0 in /home/gitpod/.pyenv/versions/3.8.13/lib/python3.8/site-packages (from lightgbm) (1.1.1)\n",
      "Requirement already satisfied: cycler>=0.10 in /home/gitpod/.pyenv/versions/3.8.13/lib/python3.8/site-packages (from matplotlib) (0.11.0)\n",
      "Requirement already satisfied: pyparsing>=2.2.1 in /workspace/.pip-modules/lib/python3.8/site-packages (from matplotlib) (3.0.9)\n",
      "Requirement already satisfied: kiwisolver>=1.0.1 in /home/gitpod/.pyenv/versions/3.8.13/lib/python3.8/site-packages (from matplotlib) (1.4.2)\n",
      "Requirement already satisfied: packaging>=20.0 in /workspace/.pip-modules/lib/python3.8/site-packages (from matplotlib) (21.3)\n",
      "Requirement already satisfied: pillow>=6.2.0 in /home/gitpod/.pyenv/versions/3.8.13/lib/python3.8/site-packages (from matplotlib) (9.1.1)\n",
      "Requirement already satisfied: fonttools>=4.22.0 in /home/gitpod/.pyenv/versions/3.8.13/lib/python3.8/site-packages (from matplotlib) (4.33.3)\n",
      "Requirement already satisfied: imbalanced-learn in /home/gitpod/.pyenv/versions/3.8.13/lib/python3.8/site-packages (from imblearn) (0.9.1)\n",
      "Requirement already satisfied: six>=1.5 in /home/gitpod/.pyenv/versions/3.8.13/lib/python3.8/site-packages (from python-dateutil>=2.8.1->pandas) (1.16.0)\n",
      "Requirement already satisfied: joblib>=1.0.0 in /home/gitpod/.pyenv/versions/3.8.13/lib/python3.8/site-packages (from scikit-learn!=0.22.0->lightgbm) (1.1.0)\n",
      "Requirement already satisfied: threadpoolctl>=2.0.0 in /home/gitpod/.pyenv/versions/3.8.13/lib/python3.8/site-packages (from scikit-learn!=0.22.0->lightgbm) (3.1.0)\n",
      "\u001b[33mWARNING: There was an error checking the latest version of pip.\u001b[0m\u001b[33m\n",
      "\u001b[0m"
     ]
    }
   ],
   "source": [
    "\n",
    "!pip install pandas numpy lightgbm sklearn matplotlib  imblearn tqdm\n",
    "\n",
    "import pandas as pd\n",
    "from tqdm import tqdm\n",
    "import warnings\n",
    "import lightgbm as lgb\n",
    "import numpy as np\n",
    "from sklearn.model_selection import StratifiedKFold\n",
    "import json\n",
    "from sklearn.preprocessing import LabelEncoder\n",
    "from imblearn.over_sampling import RandomOverSampler\n",
    "from sklearn.metrics import roc_auc_score, f1_score, precision_score, recall_score\n",
    "import warnings\n",
    "warnings.filterwarnings('ignore')"
   ]
  },
  {
   "cell_type": "code",
   "execution_count": 64,
   "metadata": {},
   "outputs": [],
   "source": [
    "DATA_PATH = 'data/'\n",
    "train = pd.read_csv(DATA_PATH + 'train_dataset.csv', sep='\\t')"
   ]
  },
  {
   "cell_type": "code",
   "execution_count": 65,
   "metadata": {},
   "outputs": [
    {
     "data": {
      "text/plain": [
       "<AxesSubplot:title={'center':'正负样本占比'}>"
      ]
     },
     "execution_count": 65,
     "metadata": {},
     "output_type": "execute_result"
    },
    {
     "data": {
      "image/png": "[encoded data removed]",
      "text/plain": [
       "<Figure size 432x288 with 1 Axes>"
      ]
     },
     "metadata": {
      "needs_background": "light"
     },
     "output_type": "display_data"
    }
   ],
   "source": [
    "# 正负样本比例不均衡，4：1\n",
    "train['risk_label'].value_counts(normalize=True).plot(kind='bar',title='正负样本占比')"
   ]
  },
  {
   "cell_type": "code",
   "execution_count": 66,
   "metadata": {},
   "outputs": [],
   "source": [
    "# 重采样--随机采样\n",
    "# https://imbalanced-learn.org/dev/over_sampling.html#random-over-sampler\n",
    "\n",
    "ros = RandomOverSampler(random_state=0)\n",
    "train, train['risk_label'] = ros.fit_resample(train, train['risk_label'])"
   ]
  },
  {
   "cell_type": "code",
   "execution_count": 67,
   "metadata": {},
   "outputs": [
    {
     "data": {
      "text/plain": [
       "0    0.5\n",
       "1    0.5\n",
       "Name: risk_label, dtype: float64"
      ]
     },
     "execution_count": 67,
     "metadata": {},
     "output_type": "execute_result"
    }
   ],
   "source": [
    "train['risk_label'].value_counts(normalize=True)"
   ]
  },
  {
   "cell_type": "code",
   "execution_count": 68,
   "metadata": {},
   "outputs": [],
   "source": [
    "test = pd.read_csv(DATA_PATH + 'test_dataset.csv', sep='\\t')\n",
    "data = pd.concat([train, test])"
   ]
  },
  {
   "cell_type": "code",
   "execution_count": 69,
   "metadata": {},
   "outputs": [],
   "source": [
    "data['ii'] = data['session_id'].apply(lambda x: int(x[-7:-5]))\n",
    "data['location_first_lvl'] = data['location'].astype(str).apply(lambda x: json.loads(x)['first_lvl'])\n",
    "data['location_sec_lvl'] = data['location'].astype(str).apply(lambda x: json.loads(x)['sec_lvl'])\n",
    "data['location_third_lvl'] = data['location'].astype(str).apply(lambda x: json.loads(x)['third_lvl'])\n",
    "data.drop(['client_type', 'browser_source'], axis=1, inplace=True)\n",
    "data['auth_type'].fillna('1', inplace=True)"
   ]
  },
  {
   "cell_type": "code",
   "execution_count": 70,
   "metadata": {},
   "outputs": [
    {
     "name": "stderr",
     "output_type": "stream",
     "text": [
      "100%|██████████| 17/17 [00:00<00:00, 40.25it/s]\n"
     ]
    }
   ],
   "source": [
    "for col in tqdm(['user_name', 'action', 'auth_type', 'ip',\n",
    "                 'ip_location_type_keyword', 'ip_risk_level', 'location', 'device_model',\n",
    "                 'os_type', 'os_version', 'browser_type', 'browser_version',\n",
    "                 'bus_system_code', 'op_target', 'location_first_lvl', 'location_sec_lvl',\n",
    "                 'location_third_lvl']):\n",
    "    lbl = LabelEncoder()\n",
    "    data[col] = lbl.fit_transform(data[col])"
   ]
  },
  {
   "cell_type": "code",
   "execution_count": 71,
   "metadata": {},
   "outputs": [],
   "source": [
    "data['op_date'] = pd.to_datetime(data['op_date'])\n",
    "\n",
    "data['year'] = data['op_date'].dt.year\n",
    "data['month'] = data['op_date'].dt.month\n",
    "data['day'] = data['op_date'].dt.day\n",
    "data['hour'] = data['op_date'].dt.hour\n",
    "\n",
    "data['op_ts'] = data[\"op_date\"].values.astype(np.int64) // 10 ** 9\n",
    "data = data.sort_values(by=['user_name', 'op_ts']).reset_index(drop=True)\n",
    "data['last_ts'] = data.groupby(['user_name'])['op_ts'].shift(1)\n",
    "data['ts_diff1'] = data['op_ts'] - data['last_ts']\n",
    "\n",
    "for method in ['mean', 'max', 'min', 'std', 'sum', 'median']:\n",
    "    for col in ['user_name', 'ip', 'location', 'device_model', 'os_version', 'browser_version']:\n",
    "        data[f'ts_diff1_{method}_' + str(col)] = data.groupby(col)['ts_diff1'].transform(method)"
   ]
  },
  {
   "cell_type": "code",
   "execution_count": 72,
   "metadata": {},
   "outputs": [
    {
     "name": "stderr",
     "output_type": "stream",
     "text": [
      "100%|██████████| 7/7 [00:00<00:00, 22.59it/s]\n"
     ]
    }
   ],
   "source": [
    "# 计算不同维度下 ts_diff1 的统计量\n",
    "\n",
    "group_list = ['user_name','ip', 'location', 'device_model', 'os_version', 'browser_version', 'op_target']\n",
    "num_feature_list = ['ts_diff1']\n",
    "\n",
    "for group in tqdm(group_list):\n",
    "    for feature in num_feature_list:\n",
    "        tmp = data.groupby(group)[feature].agg([sum, min, max, np.mean]).reset_index()\n",
    "        tmp = pd.merge(data, tmp, on=group, how='left')\n",
    "        data['{}-mean_gb_{}'.format(feature, group)] = data[feature] - tmp['mean']\n",
    "        data['{}-min_gb_{}'.format(feature, group)] = data[feature] - tmp['min']\n",
    "        data['{}-max_gb_{}'.format(feature, group)] = data[feature] - tmp['max']\n",
    "        data['{}/sum_gb_{}'.format(feature, group)] = data[feature] / tmp['sum']"
   ]
  },
  {
   "cell_type": "code",
   "execution_count": 73,
   "metadata": {},
   "outputs": [],
   "source": [
    "cat_cols = ['action', 'auth_type', 'browser_type',\n",
    "            'browser_version', 'bus_system_code', 'device_model',\n",
    "            'ip', 'ip_location_type_keyword', 'ip_risk_level', 'location', 'op_target',\n",
    "            'os_type', 'os_version', 'user_name'\n",
    "            ]"
   ]
  },
  {
   "cell_type": "code",
   "execution_count": 74,
   "metadata": {},
   "outputs": [],
   "source": [
    "features = [i for i in data.columns if i not in ['risk_label', 'session_id', 'op_date', 'last_ts']]\n",
    "\n",
    "train = data[~data['risk_label'].isna()].reset_index(drop=True)\n",
    "test = data[data['risk_label'].isna()].reset_index(drop=True)"
   ]
  },
  {
   "cell_type": "code",
   "execution_count": 75,
   "metadata": {},
   "outputs": [],
   "source": [
    "y = train['risk_label']\n",
    "KF = StratifiedKFold(n_splits=5, random_state=2020, shuffle=True)"
   ]
  },
  {
   "cell_type": "code",
   "execution_count": 76,
   "metadata": {},
   "outputs": [
    {
     "name": "stdout",
     "output_type": "stream",
     "text": [
      "fold n°0\n",
      "Training until validation scores don't improve for 100 rounds\n",
      "[100]\ttraining's auc: 0.967149\tvalid_1's auc: 0.877088\n",
      "[200]\ttraining's auc: 0.987568\tvalid_1's auc: 0.87881\n",
      "Early stopping, best iteration is:\n",
      "[178]\ttraining's auc: 0.984401\tvalid_1's auc: 0.879486\n",
      "fold n°1\n",
      "Training until validation scores don't improve for 100 rounds\n",
      "[100]\ttraining's auc: 0.968188\tvalid_1's auc: 0.89113\n",
      "Early stopping, best iteration is:\n",
      "[11]\ttraining's auc: 0.933236\tvalid_1's auc: 0.892471\n",
      "fold n°2\n",
      "Training until validation scores don't improve for 100 rounds\n",
      "[100]\ttraining's auc: 0.968379\tvalid_1's auc: 0.87977\n",
      "Early stopping, best iteration is:\n",
      "[52]\ttraining's auc: 0.952877\tvalid_1's auc: 0.883112\n",
      "fold n°3\n",
      "Training until validation scores don't improve for 100 rounds\n",
      "[100]\ttraining's auc: 0.96667\tvalid_1's auc: 0.885439\n",
      "Early stopping, best iteration is:\n",
      "[2]\ttraining's auc: 0.908157\tvalid_1's auc: 0.886909\n",
      "fold n°4\n",
      "Training until validation scores don't improve for 100 rounds\n",
      "[100]\ttraining's auc: 0.968971\tvalid_1's auc: 0.877349\n",
      "Early stopping, best iteration is:\n",
      "[2]\ttraining's auc: 0.909508\tvalid_1's auc: 0.880774\n",
      "AUC score: 0.8797133755454716\n",
      "F1 score: 0.8611817924795024\n",
      "Precision score: 0.999125300677892\n",
      "Recall score: 0.7567075190460417\n"
     ]
    }
   ],
   "source": [
    "params = {\n",
    "    'objective': 'binary',\n",
    "    'boosting_type': 'gbdt',\n",
    "    'metric': 'auc',\n",
    "    'n_jobs': -1,\n",
    "    'learning_rate': 0.05,\n",
    "    'num_leaves': 2 ** 6,\n",
    "    'max_depth': 8,\n",
    "    'tree_learner': 'serial',\n",
    "    'colsample_bytree': 0.8,\n",
    "    'subsample_freq': 1,\n",
    "    'subsample': 0.8,\n",
    "    'num_boost_round': 5000,\n",
    "    'max_bin': 255,\n",
    "    'verbose': -1,\n",
    "    'seed': 2021,\n",
    "    'bagging_seed': 2021,\n",
    "    'feature_fraction_seed': 2021,\n",
    "    'early_stopping_rounds': 100,\n",
    "}\n",
    "\n",
    "\n",
    "oof_lgb = np.zeros(len(train))\n",
    "predictions_lgb = np.zeros((len(test)))\n",
    "for fold_, (trn_idx, val_idx) in enumerate(KF.split(train.values, y.values)):\n",
    "    print(\"fold n°{}\".format(fold_))\n",
    "    trn_data = lgb.Dataset(train.iloc[trn_idx][features], label=y.iloc[trn_idx])\n",
    "    val_data = lgb.Dataset(train.iloc[val_idx][features], label=y.iloc[val_idx])\n",
    "    num_round = 3000\n",
    "    clf = lgb.train(\n",
    "        params,\n",
    "        trn_data,\n",
    "        num_round,\n",
    "        valid_sets=[trn_data, val_data],\n",
    "        verbose_eval=100,\n",
    "        early_stopping_rounds=50,\n",
    "        categorical_feature=cat_cols\n",
    "    )\n",
    "\n",
    "    oof_lgb[val_idx] = clf.predict(train.iloc[val_idx][features], num_iteration=clf.best_iteration)\n",
    "    predictions_lgb[:] += clf.predict(test[features], num_iteration=clf.best_iteration) / 5\n",
    "\n",
    "print(\"AUC score: {}\".format(roc_auc_score(y, oof_lgb)))\n",
    "print(\"F1 score: {}\".format(f1_score(y, [1 if i >= 0.5 else 0 for i in oof_lgb])))\n",
    "print(\"Precision score: {}\".format(precision_score(y, [1 if i >= 0.5 else 0 for i in oof_lgb])))\n",
    "print(\"Recall score: {}\".format(recall_score(y, [1 if i >= 0.5 else 0 for i in oof_lgb])))\n"
   ]
  },
  {
   "cell_type": "code",
   "execution_count": 79,
   "metadata": {},
   "outputs": [
    {
     "data": {
      "text/plain": [
       "3467.435133409964"
      ]
     },
     "execution_count": 79,
     "metadata": {},
     "output_type": "execute_result"
    }
   ],
   "source": [
    "test['ret'] = predictions_lgb\n",
    "\n",
    "test['id'] = range(1, 10001)\n",
    "test[['id', 'ret']].to_csv('results/sub_5225.csv', index=False)\n",
    "test['ret'].sum()"
   ]
  },
  {
   "cell_type": "code",
   "execution_count": 93,
   "metadata": {},
   "outputs": [
    {
     "name": "stdout",
     "output_type": "stream",
     "text": [
      "1.0\n"
     ]
    },
    {
     "data": {
      "text/plain": [
       "[<matplotlib.lines.Line2D at 0x7f70bcfbf9d0>]"
      ]
     },
     "execution_count": 93,
     "metadata": {},
     "output_type": "execute_result"
    },
    {
     "data": {
      "image/png": "[encoded data removed]",
      "text/plain": [
       "<Figure size 432x288 with 1 Axes>"
      ]
     },
     "metadata": {
      "needs_background": "light"
     },
     "output_type": "display_data"
    }
   ],
   "source": [
    "\n",
    "\n",
    "from matplotlib.pyplot import plot\n",
    "\n",
    "ans = pd.read_csv('results/sub_5225.csv')\n",
    "print(np.corrcoef(ans['ret'].rank().values.astype('float'), test['ret'].rank().values.astype('float'))[0, 1])\n",
    "plot(ans['ret'].rank(), '-x')\n",
    "plot(test['ret'].rank(), '-x')"
   ]
  }
 ],
 "metadata": {
  "kernelspec": {
   "display_name": "Python 3.8.13 64-bit ('3.8.13')",
   "language": "python",
   "name": "python3"
  },
  "language_info": {
   "codemirror_mode": {
    "name": "ipython",
    "version": 3
   },
   "file_extension": ".py",
   "mimetype": "text/x-python",
   "name": "python",
   "nbconvert_exporter": "python",
   "pygments_lexer": "ipython3",
   "version": "3.8.13"
  },
  "orig_nbformat": 4,
  "vscode": {
   "interpreter": {
    "hash": "110cc1dee26208153f2972f08a2ad52b6a56238dc66d48e87fb757ef2996db56"
   }
  }
 },
 "nbformat": 4,
 "nbformat_minor": 2
}
