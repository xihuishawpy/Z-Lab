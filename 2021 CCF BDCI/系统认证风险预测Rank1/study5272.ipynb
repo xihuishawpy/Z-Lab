{
 "cells": [
  {
   "cell_type": "code",
   "execution_count": 50,
   "metadata": {},
   "outputs": [],
   "source": [
    "# !pip install pandas numpy lightgbm sklearn matplotlib gensim"
   ]
  },
  {
   "cell_type": "code",
   "execution_count": 51,
   "metadata": {},
   "outputs": [],
   "source": [
    "import pandas as pd\n",
    "import numpy as np\n",
    "import lightgbm as lgb\n",
    "from sklearn.model_selection import StratifiedKFold\n",
    "from sklearn.preprocessing import LabelEncoder\n",
    "from matplotlib.pyplot import plot, show\n",
    "from sklearn.metrics import roc_auc_score\n",
    "import json\n",
    "from gensim.models.word2vec import Word2Vec"
   ]
  },
  {
   "cell_type": "code",
   "execution_count": 52,
   "metadata": {},
   "outputs": [],
   "source": [
    "df_train = pd.read_csv('data/train_dataset.csv',sep='\\t')\n",
    "df_test = pd.read_csv('data/test_dataset.csv', sep='\\t')\n",
    "sub = pd.read_csv('data/submit_example.csv')\n",
    "\n",
    "df_test['id'] = sub['id']\n",
    "df = pd.concat([df_train,df_test])"
   ]
  },
  {
   "cell_type": "code",
   "execution_count": 53,
   "metadata": {},
   "outputs": [
    {
     "data": {
      "text/html": [
       "<div>\n",
       "<style scoped>\n",
       "    .dataframe tbody tr th:only-of-type {\n",
       "        vertical-align: middle;\n",
       "    }\n",
       "\n",
       "    .dataframe tbody tr th {\n",
       "        vertical-align: top;\n",
       "    }\n",
       "\n",
       "    .dataframe thead th {\n",
       "        text-align: right;\n",
       "    }\n",
       "</style>\n",
       "<table border=\"1\" class=\"dataframe\">\n",
       "  <thead>\n",
       "    <tr style=\"text-align: right;\">\n",
       "      <th></th>\n",
       "      <th>session_id</th>\n",
       "      <th>op_date</th>\n",
       "      <th>user_name</th>\n",
       "      <th>action</th>\n",
       "      <th>auth_type</th>\n",
       "      <th>ip</th>\n",
       "      <th>ip_location_type_keyword</th>\n",
       "      <th>ip_risk_level</th>\n",
       "      <th>location</th>\n",
       "      <th>client_type</th>\n",
       "      <th>browser_source</th>\n",
       "      <th>device_model</th>\n",
       "      <th>os_type</th>\n",
       "      <th>os_version</th>\n",
       "      <th>browser_type</th>\n",
       "      <th>browser_version</th>\n",
       "      <th>bus_system_code</th>\n",
       "      <th>op_target</th>\n",
       "      <th>risk_label</th>\n",
       "      <th>id</th>\n",
       "    </tr>\n",
       "  </thead>\n",
       "  <tbody>\n",
       "    <tr>\n",
       "      <th>0</th>\n",
       "      <td>access:test_d:20180101111639:bBp1</td>\n",
       "      <td>2018/1/1 11:16</td>\n",
       "      <td>test_d</td>\n",
       "      <td>login</td>\n",
       "      <td>otp</td>\n",
       "      <td>192.168.100.101</td>\n",
       "      <td>内网</td>\n",
       "      <td>1级</td>\n",
       "      <td>{\"first_lvl\":\"成都分公司\",\"sec_lvl\":\"9楼\",\"third_lvl...</td>\n",
       "      <td>web</td>\n",
       "      <td>desktop</td>\n",
       "      <td>think_pad_e460</td>\n",
       "      <td>windows</td>\n",
       "      <td>windows 10</td>\n",
       "      <td>chrome</td>\n",
       "      <td>chrome 90</td>\n",
       "      <td>coremail</td>\n",
       "      <td>management</td>\n",
       "      <td>0.0</td>\n",
       "      <td>NaN</td>\n",
       "    </tr>\n",
       "    <tr>\n",
       "      <th>1</th>\n",
       "      <td>access:test_d:20180101121524:OBSg</td>\n",
       "      <td>2018/1/1 12:15</td>\n",
       "      <td>test_d</td>\n",
       "      <td>login</td>\n",
       "      <td>qr</td>\n",
       "      <td>192.168.100.101</td>\n",
       "      <td>内网</td>\n",
       "      <td>1级</td>\n",
       "      <td>{\"first_lvl\":\"成都分公司\",\"sec_lvl\":\"9楼\",\"third_lvl...</td>\n",
       "      <td>web</td>\n",
       "      <td>desktop</td>\n",
       "      <td>think_pad_e460</td>\n",
       "      <td>windows</td>\n",
       "      <td>windows 10</td>\n",
       "      <td>edge</td>\n",
       "      <td>edge 93</td>\n",
       "      <td>order-mgnt</td>\n",
       "      <td>sales</td>\n",
       "      <td>0.0</td>\n",
       "      <td>NaN</td>\n",
       "    </tr>\n",
       "    <tr>\n",
       "      <th>2</th>\n",
       "      <td>access:test_d:20180101151333:BpQN</td>\n",
       "      <td>2018/1/1 15:13</td>\n",
       "      <td>test_d</td>\n",
       "      <td>login</td>\n",
       "      <td>qr</td>\n",
       "      <td>192.168.100.101</td>\n",
       "      <td>内网</td>\n",
       "      <td>1级</td>\n",
       "      <td>{\"first_lvl\":\"成都分公司\",\"sec_lvl\":\"9楼\",\"third_lvl...</td>\n",
       "      <td>web</td>\n",
       "      <td>desktop</td>\n",
       "      <td>think_pad_e460</td>\n",
       "      <td>windows</td>\n",
       "      <td>windows 10</td>\n",
       "      <td>chrome</td>\n",
       "      <td>chrome 90</td>\n",
       "      <td>order-mgnt</td>\n",
       "      <td>sales</td>\n",
       "      <td>0.0</td>\n",
       "      <td>NaN</td>\n",
       "    </tr>\n",
       "    <tr>\n",
       "      <th>3</th>\n",
       "      <td>access:test_d:20180101124502:hYQm</td>\n",
       "      <td>2018/1/1 12:45</td>\n",
       "      <td>test_d</td>\n",
       "      <td>sso</td>\n",
       "      <td>NaN</td>\n",
       "      <td>192.168.100.101</td>\n",
       "      <td>内网</td>\n",
       "      <td>1级</td>\n",
       "      <td>{\"first_lvl\":\"成都分公司\",\"sec_lvl\":\"9楼\",\"third_lvl...</td>\n",
       "      <td>web</td>\n",
       "      <td>desktop</td>\n",
       "      <td>think_pad_e460</td>\n",
       "      <td>windows</td>\n",
       "      <td>windows 10</td>\n",
       "      <td>edge</td>\n",
       "      <td>edge 93</td>\n",
       "      <td>oa</td>\n",
       "      <td>management</td>\n",
       "      <td>0.0</td>\n",
       "      <td>NaN</td>\n",
       "    </tr>\n",
       "    <tr>\n",
       "      <th>4</th>\n",
       "      <td>access:test_d:20180101202749:FkDK</td>\n",
       "      <td>2018/1/1 20:27</td>\n",
       "      <td>test_d</td>\n",
       "      <td>sso</td>\n",
       "      <td>NaN</td>\n",
       "      <td>192.168.100.101</td>\n",
       "      <td>内网</td>\n",
       "      <td>1级</td>\n",
       "      <td>{\"first_lvl\":\"成都分公司\",\"sec_lvl\":\"9楼\",\"third_lvl...</td>\n",
       "      <td>web</td>\n",
       "      <td>desktop</td>\n",
       "      <td>think_pad_e460</td>\n",
       "      <td>windows</td>\n",
       "      <td>windows 10</td>\n",
       "      <td>edge</td>\n",
       "      <td>edge 93</td>\n",
       "      <td>order-mgnt</td>\n",
       "      <td>sales</td>\n",
       "      <td>0.0</td>\n",
       "      <td>NaN</td>\n",
       "    </tr>\n",
       "  </tbody>\n",
       "</table>\n",
       "</div>"
      ],
      "text/plain": [
       "                          session_id         op_date user_name action  \\\n",
       "0  access:test_d:20180101111639:bBp1  2018/1/1 11:16    test_d  login   \n",
       "1  access:test_d:20180101121524:OBSg  2018/1/1 12:15    test_d  login   \n",
       "2  access:test_d:20180101151333:BpQN  2018/1/1 15:13    test_d  login   \n",
       "3  access:test_d:20180101124502:hYQm  2018/1/1 12:45    test_d    sso   \n",
       "4  access:test_d:20180101202749:FkDK  2018/1/1 20:27    test_d    sso   \n",
       "\n",
       "  auth_type               ip ip_location_type_keyword ip_risk_level  \\\n",
       "0       otp  192.168.100.101                       内网            1级   \n",
       "1        qr  192.168.100.101                       内网            1级   \n",
       "2        qr  192.168.100.101                       内网            1级   \n",
       "3       NaN  192.168.100.101                       内网            1级   \n",
       "4       NaN  192.168.100.101                       内网            1级   \n",
       "\n",
       "                                            location client_type  \\\n",
       "0  {\"first_lvl\":\"成都分公司\",\"sec_lvl\":\"9楼\",\"third_lvl...         web   \n",
       "1  {\"first_lvl\":\"成都分公司\",\"sec_lvl\":\"9楼\",\"third_lvl...         web   \n",
       "2  {\"first_lvl\":\"成都分公司\",\"sec_lvl\":\"9楼\",\"third_lvl...         web   \n",
       "3  {\"first_lvl\":\"成都分公司\",\"sec_lvl\":\"9楼\",\"third_lvl...         web   \n",
       "4  {\"first_lvl\":\"成都分公司\",\"sec_lvl\":\"9楼\",\"third_lvl...         web   \n",
       "\n",
       "  browser_source    device_model  os_type  os_version browser_type  \\\n",
       "0        desktop  think_pad_e460  windows  windows 10       chrome   \n",
       "1        desktop  think_pad_e460  windows  windows 10         edge   \n",
       "2        desktop  think_pad_e460  windows  windows 10       chrome   \n",
       "3        desktop  think_pad_e460  windows  windows 10         edge   \n",
       "4        desktop  think_pad_e460  windows  windows 10         edge   \n",
       "\n",
       "  browser_version bus_system_code   op_target  risk_label  id  \n",
       "0       chrome 90        coremail  management         0.0 NaN  \n",
       "1         edge 93      order-mgnt       sales         0.0 NaN  \n",
       "2       chrome 90      order-mgnt       sales         0.0 NaN  \n",
       "3         edge 93              oa  management         0.0 NaN  \n",
       "4         edge 93      order-mgnt       sales         0.0 NaN  "
      ]
     },
     "execution_count": 53,
     "metadata": {},
     "output_type": "execute_result"
    }
   ],
   "source": [
    "df.head()"
   ]
  },
  {
   "cell_type": "code",
   "execution_count": 54,
   "metadata": {},
   "outputs": [],
   "source": [
    "# 把location里的字段解析出来\n",
    "df['location_first_lvl'] = df['location'].astype(str).apply(lambda x: json.loads(x)['first_lvl'])\n",
    "df['location_sec_lvl'] = df['location'].astype(str).apply(lambda x: json.loads(x)['sec_lvl'])\n",
    "df['location_third_lvl'] = df['location'].astype(str).apply(lambda x: json.loads(x)['third_lvl'])"
   ]
  },
  {
   "cell_type": "code",
   "execution_count": 55,
   "metadata": {},
   "outputs": [
    {
     "data": {
      "text/plain": [
       "(23,\n",
       " Index(['session_id', 'op_date', 'user_name', 'action', 'auth_type', 'ip',\n",
       "        'ip_location_type_keyword', 'ip_risk_level', 'location', 'client_type',\n",
       "        'browser_source', 'device_model', 'os_type', 'os_version',\n",
       "        'browser_type', 'browser_version', 'bus_system_code', 'op_target',\n",
       "        'risk_label', 'id', 'location_first_lvl', 'location_sec_lvl',\n",
       "        'location_third_lvl'],\n",
       "       dtype='object'))"
      ]
     },
     "execution_count": 55,
     "metadata": {},
     "output_type": "execute_result"
    }
   ],
   "source": [
    "len(df.columns),df.columns"
   ]
  },
  {
   "cell_type": "code",
   "execution_count": 56,
   "metadata": {},
   "outputs": [
    {
     "data": {
      "text/plain": [
       "17"
      ]
     },
     "execution_count": 56,
     "metadata": {},
     "output_type": "execute_result"
    }
   ],
   "source": [
    "feats = ['user_name', 'action', 'auth_type', 'ip_location_type_keyword', 'ip_risk_level', 'ip', 'location',\n",
    "         'device_model', 'os_type', 'os_version', 'browser_type', 'browser_version', 'bus_system_code', 'op_target',\n",
    "         'location_first_lvl', 'location_sec_lvl', 'location_third_lvl',\n",
    "         ]\n",
    "\n",
    "len(feats)"
   ]
  },
  {
   "cell_type": "code",
   "execution_count": 57,
   "metadata": {},
   "outputs": [],
   "source": [
    "cat = []\n",
    "\n",
    "LABEL = 'risk_label'"
   ]
  },
  {
   "cell_type": "code",
   "execution_count": 58,
   "metadata": {},
   "outputs": [],
   "source": [
    "# 特征处理\n",
    "\n",
    "df['sec'] = df.session_id.apply(lambda x:int(x[-7:-5]))\n",
    "df['sec_sin'] = np.sin(df['sec']/60*2*np.pi)\n",
    "df['sec_cos'] = np.cos(df['sec']/60*2*np.pi)\n",
    "\n",
    "df['op_date'] = pd.to_datetime(df['op_date'])\n",
    "df['hour'] = df['op_date'].dt.hour\n",
    "df['weekday'] = df['op_date'].dt.weekday\n",
    "df['year'] = df['op_date'].dt.year\n",
    "df['month'] = df['op_date'].dt.month\n",
    "df['day'] = df['op_date'].dt.day\n",
    "# 转Unix时间戳\n",
    "df['op_ts'] = df[\"op_date\"].values.astype(np.int64) // 10 ** 9\n",
    "\n",
    "# 根据用户、时间戳排序\n",
    "df = df.sort_values(by=['user_name', 'op_ts']).reset_index(drop=True)\n",
    "\n",
    "df['last_ts'] = df.groupby(['user_name'])['op_ts'].shift(1)\n",
    "df['last_ts2'] = df.groupby(['user_name'])['op_ts'].shift(2)\n",
    "df['ts_diff'] = df['op_ts'] - df['last_ts']\n",
    "df['ts_diff2'] = df['op_ts'] - df['last_ts2']"
   ]
  },
  {
   "cell_type": "code",
   "execution_count": 59,
   "metadata": {},
   "outputs": [],
   "source": [
    "feats += ['sec',\n",
    "          'sec_sin', 'sec_cos',\n",
    "          'op_ts', 'last_ts', 'ts_diff',\n",
    "          'last_ts2',\n",
    "          'ts_diff2',\n",
    "          ]"
   ]
  },
  {
   "cell_type": "code",
   "execution_count": 60,
   "metadata": {},
   "outputs": [
    {
     "data": {
      "text/plain": [
       "0     otp\n",
       "1     pwd\n",
       "2      qr\n",
       "3     NaN\n",
       "16    sms\n",
       "Name: auth_type, dtype: object"
      ]
     },
     "execution_count": 60,
     "metadata": {},
     "output_type": "execute_result"
    }
   ],
   "source": [
    "df.auth_type.drop_duplicates()"
   ]
  },
  {
   "cell_type": "code",
   "execution_count": 61,
   "metadata": {},
   "outputs": [
    {
     "name": "stdout",
     "output_type": "stream",
     "text": [
      "['otp', 'pwd', 'qr', 'nan', 'otp', 'nan', 'pwd', 'nan', 'nan', 'nan', 'nan', 'nan', 'nan', 'pwd', 'otp', 'nan', 'sms', 'pwd', 'nan', 'nan', 'nan', 'nan', 'sms', 'otp', 'pwd', 'nan', 'nan', 'nan', 'nan', 'nan', 'nan', 'nan', 'qr', 'pwd', 'nan', 'nan', 'nan', 'nan', 'qr', 'pwd', 'nan', 'nan', 'sms', 'nan', 'nan', 'otp', 'nan', 'nan', 'nan', 'pwd', 'qr', 'nan', 'nan', 'pwd', 'otp', 'nan', 'pwd', 'qr', 'pwd', 'nan', 'nan', 'nan', 'sms']\n"
     ]
    }
   ],
   "source": [
    "for name in ['auth_type']:\n",
    "    df[name+'_fillna'] = df[name].astype('str')\n",
    "\n",
    "    # 每个用户 ，不同年月日下，auth_type状态列表（一个用户一天有很多条auth_type）\n",
    "    sent = df.groupby(['user_name', 'year', 'month', 'day'])[name+'_fillna']\\\n",
    "                                                            .agg(list).values\n",
    "    print(sent[0])\n",
    "\n",
    "    # 对于每个用户每天的auth_type状态列表，embedding（word2vec）\n",
    "    vec_size = 6\n",
    "    w2v_model = Word2Vec(sentences=sent,vector_size=vec_size,window=12,min_count=1,workers=1)\n",
    "    tmp = df[name+ '_fillna'].map(lambda x:w2v_model.wv[x])\n",
    "    \n",
    "    tmp = pd.DataFrame(list(tmp))\n",
    "    tmp.columns = ['_'.join([name,'emb',str(i)]) for i in range(vec_size)]\n",
    "\n",
    "    df = pd.concat([df,tmp],axis=1)\n",
    "    feats += list(tmp.columns)\n"
   ]
  },
  {
   "cell_type": "code",
   "execution_count": 62,
   "metadata": {},
   "outputs": [],
   "source": [
    "# 计算特征时间戳时序间隔的统计值\n",
    "\n",
    "for name in ['mean','std','max','min','median','skew']:\n",
    "    for name1 in ['user_name','bus_system_code','auth_type','action']:\n",
    "        df[name1+'_ts_diff'+name] = df.groupby([name1])['ts_diff'].transform(name)\n",
    "        feats.append(name1+'_ts_diff'+name)\n",
    "\n",
    "        "
   ]
  },
  {
   "cell_type": "code",
   "execution_count": 63,
   "metadata": {},
   "outputs": [],
   "source": [
    "# 该类下正负样本比例4:1\n",
    "\n",
    "df['if_out'] = (df['location'] == '{\"first_lvl\":\"成都分公司\",\"sec_lvl\":\"9楼\",\"third_lvl\":\"销售部\"}')\n",
    "feats.append('if_out')"
   ]
  },
  {
   "cell_type": "code",
   "execution_count": 64,
   "metadata": {},
   "outputs": [],
   "source": [
    "# 类别特征编码\n",
    "\n",
    "for name in ['user_name', 'action', 'auth_type', 'ip', 'ip_location_type_keyword', 'ip_risk_level', 'location',\n",
    "             'device_model', 'os_type', 'os_version', 'browser_type', 'browser_version', 'bus_system_code', 'op_target',\n",
    "             'location_first_lvl', 'location_sec_lvl', 'location_third_lvl',\n",
    "             ]+cat:\n",
    "    le = LabelEncoder()\n",
    "    df[name] = le.fit_transform(df[name])\n"
   ]
  },
  {
   "cell_type": "code",
   "execution_count": 65,
   "metadata": {},
   "outputs": [],
   "source": [
    "df_train = df[~df[LABEL].isna()].reset_index(drop=True)\n",
    "df_test = df[df[LABEL].isna()].reset_index(drop=True)"
   ]
  },
  {
   "cell_type": "code",
   "execution_count": 66,
   "metadata": {},
   "outputs": [
    {
     "name": "stdout",
     "output_type": "stream",
     "text": [
      "['user_name', 'action', 'auth_type', 'ip_location_type_keyword', 'ip_risk_level', 'ip', 'location', 'device_model', 'os_type', 'os_version', 'browser_type', 'browser_version', 'bus_system_code', 'op_target', 'location_first_lvl', 'location_sec_lvl', 'location_third_lvl', 'sec', 'sec_sin', 'sec_cos', 'op_ts', 'last_ts', 'ts_diff', 'last_ts2', 'ts_diff2', 'auth_type_emb_0', 'auth_type_emb_1', 'auth_type_emb_2', 'auth_type_emb_3', 'auth_type_emb_4', 'auth_type_emb_5', 'user_name_ts_diffmean', 'bus_system_code_ts_diffmean', 'auth_type_ts_diffmean', 'action_ts_diffmean', 'user_name_ts_diffstd', 'bus_system_code_ts_diffstd', 'auth_type_ts_diffstd', 'action_ts_diffstd', 'user_name_ts_diffmax', 'bus_system_code_ts_diffmax', 'auth_type_ts_diffmax', 'action_ts_diffmax', 'user_name_ts_diffmin', 'bus_system_code_ts_diffmin', 'auth_type_ts_diffmin', 'action_ts_diffmin', 'user_name_ts_diffmedian', 'bus_system_code_ts_diffmedian', 'auth_type_ts_diffmedian', 'action_ts_diffmedian', 'user_name_ts_diffskew', 'bus_system_code_ts_diffskew', 'auth_type_ts_diffskew', 'action_ts_diffskew', 'if_out']\n",
      "(15016, 56) (10000, 56)\n"
     ]
    }
   ],
   "source": [
    "params = {\n",
    "    'learning_rate': 0.06,\n",
    "    'boosting_type': 'gbdt',\n",
    "    'objective': 'binary',\n",
    "    'metric': 'auc',\n",
    "    'verbose': -1,\n",
    "    'seed': 2222,\n",
    "    'n_jobs': -1,\n",
    "}\n",
    "\n",
    "\n",
    "print(feats)\n",
    "print(df_train[feats].shape, df_test[feats].shape)"
   ]
  },
  {
   "cell_type": "code",
   "execution_count": 67,
   "metadata": {},
   "outputs": [
    {
     "name": "stdout",
     "output_type": "stream",
     "text": [
      "############################ 2021\n",
      "----------- 0\n",
      "Training until validation scores don't improve for 100 rounds\n"
     ]
    },
    {
     "name": "stderr",
     "output_type": "stream",
     "text": [
      "/home/gitpod/.pyenv/versions/3.8.13/lib/python3.8/site-packages/lightgbm/engine.py:181: UserWarning: 'early_stopping_rounds' argument is deprecated and will be removed in a future release of LightGBM. Pass 'early_stopping()' callback via 'callbacks' argument instead.\n",
      "  _log_warning(\"'early_stopping_rounds' argument is deprecated and will be removed in a future release of LightGBM. \"\n",
      "/home/gitpod/.pyenv/versions/3.8.13/lib/python3.8/site-packages/lightgbm/engine.py:239: UserWarning: 'verbose_eval' argument is deprecated and will be removed in a future release of LightGBM. Pass 'log_evaluation()' callback via 'callbacks' argument instead.\n",
      "  _log_warning(\"'verbose_eval' argument is deprecated and will be removed in a future release of LightGBM. \"\n"
     ]
    },
    {
     "name": "stdout",
     "output_type": "stream",
     "text": [
      "[100]\tvalid_0's auc: 0.539889\n",
      "[200]\tvalid_0's auc: 0.534839\n",
      "Early stopping, best iteration is:\n",
      "[112]\tvalid_0's auc: 0.543007\n",
      "----------- 1\n"
     ]
    },
    {
     "name": "stderr",
     "output_type": "stream",
     "text": [
      "/home/gitpod/.pyenv/versions/3.8.13/lib/python3.8/site-packages/lightgbm/engine.py:181: UserWarning: 'early_stopping_rounds' argument is deprecated and will be removed in a future release of LightGBM. Pass 'early_stopping()' callback via 'callbacks' argument instead.\n",
      "  _log_warning(\"'early_stopping_rounds' argument is deprecated and will be removed in a future release of LightGBM. \"\n",
      "/home/gitpod/.pyenv/versions/3.8.13/lib/python3.8/site-packages/lightgbm/engine.py:239: UserWarning: 'verbose_eval' argument is deprecated and will be removed in a future release of LightGBM. Pass 'log_evaluation()' callback via 'callbacks' argument instead.\n",
      "  _log_warning(\"'verbose_eval' argument is deprecated and will be removed in a future release of LightGBM. \"\n"
     ]
    },
    {
     "name": "stdout",
     "output_type": "stream",
     "text": [
      "Training until validation scores don't improve for 100 rounds\n",
      "[100]\tvalid_0's auc: 0.532442\n",
      "Early stopping, best iteration is:\n",
      "[60]\tvalid_0's auc: 0.538341\n",
      "----------- 2\n"
     ]
    },
    {
     "name": "stderr",
     "output_type": "stream",
     "text": [
      "/home/gitpod/.pyenv/versions/3.8.13/lib/python3.8/site-packages/lightgbm/engine.py:181: UserWarning: 'early_stopping_rounds' argument is deprecated and will be removed in a future release of LightGBM. Pass 'early_stopping()' callback via 'callbacks' argument instead.\n",
      "  _log_warning(\"'early_stopping_rounds' argument is deprecated and will be removed in a future release of LightGBM. \"\n",
      "/home/gitpod/.pyenv/versions/3.8.13/lib/python3.8/site-packages/lightgbm/engine.py:239: UserWarning: 'verbose_eval' argument is deprecated and will be removed in a future release of LightGBM. Pass 'log_evaluation()' callback via 'callbacks' argument instead.\n",
      "  _log_warning(\"'verbose_eval' argument is deprecated and will be removed in a future release of LightGBM. \"\n"
     ]
    },
    {
     "name": "stdout",
     "output_type": "stream",
     "text": [
      "Training until validation scores don't improve for 100 rounds\n",
      "[100]\tvalid_0's auc: 0.508189\n",
      "Early stopping, best iteration is:\n",
      "[11]\tvalid_0's auc: 0.542748\n",
      "----------- 3\n"
     ]
    },
    {
     "name": "stderr",
     "output_type": "stream",
     "text": [
      "/home/gitpod/.pyenv/versions/3.8.13/lib/python3.8/site-packages/lightgbm/engine.py:181: UserWarning: 'early_stopping_rounds' argument is deprecated and will be removed in a future release of LightGBM. Pass 'early_stopping()' callback via 'callbacks' argument instead.\n",
      "  _log_warning(\"'early_stopping_rounds' argument is deprecated and will be removed in a future release of LightGBM. \"\n",
      "/home/gitpod/.pyenv/versions/3.8.13/lib/python3.8/site-packages/lightgbm/engine.py:239: UserWarning: 'verbose_eval' argument is deprecated and will be removed in a future release of LightGBM. Pass 'log_evaluation()' callback via 'callbacks' argument instead.\n",
      "  _log_warning(\"'verbose_eval' argument is deprecated and will be removed in a future release of LightGBM. \"\n"
     ]
    },
    {
     "name": "stdout",
     "output_type": "stream",
     "text": [
      "Training until validation scores don't improve for 100 rounds\n",
      "[100]\tvalid_0's auc: 0.506773\n",
      "[200]\tvalid_0's auc: 0.508354\n",
      "Early stopping, best iteration is:\n",
      "[132]\tvalid_0's auc: 0.514964\n",
      "----------- 4\n",
      "Training until validation scores don't improve for 100 rounds\n"
     ]
    },
    {
     "name": "stderr",
     "output_type": "stream",
     "text": [
      "/home/gitpod/.pyenv/versions/3.8.13/lib/python3.8/site-packages/lightgbm/engine.py:181: UserWarning: 'early_stopping_rounds' argument is deprecated and will be removed in a future release of LightGBM. Pass 'early_stopping()' callback via 'callbacks' argument instead.\n",
      "  _log_warning(\"'early_stopping_rounds' argument is deprecated and will be removed in a future release of LightGBM. \"\n",
      "/home/gitpod/.pyenv/versions/3.8.13/lib/python3.8/site-packages/lightgbm/engine.py:239: UserWarning: 'verbose_eval' argument is deprecated and will be removed in a future release of LightGBM. Pass 'log_evaluation()' callback via 'callbacks' argument instead.\n",
      "  _log_warning(\"'verbose_eval' argument is deprecated and will be removed in a future release of LightGBM. \"\n"
     ]
    },
    {
     "name": "stdout",
     "output_type": "stream",
     "text": [
      "[100]\tvalid_0's auc: 0.499504\n",
      "Early stopping, best iteration is:\n",
      "[1]\tvalid_0's auc: 0.534653\n",
      "----------- 5\n",
      "Training until validation scores don't improve for 100 rounds\n"
     ]
    },
    {
     "name": "stderr",
     "output_type": "stream",
     "text": [
      "/home/gitpod/.pyenv/versions/3.8.13/lib/python3.8/site-packages/lightgbm/engine.py:181: UserWarning: 'early_stopping_rounds' argument is deprecated and will be removed in a future release of LightGBM. Pass 'early_stopping()' callback via 'callbacks' argument instead.\n",
      "  _log_warning(\"'early_stopping_rounds' argument is deprecated and will be removed in a future release of LightGBM. \"\n",
      "/home/gitpod/.pyenv/versions/3.8.13/lib/python3.8/site-packages/lightgbm/engine.py:239: UserWarning: 'verbose_eval' argument is deprecated and will be removed in a future release of LightGBM. Pass 'log_evaluation()' callback via 'callbacks' argument instead.\n",
      "  _log_warning(\"'verbose_eval' argument is deprecated and will be removed in a future release of LightGBM. \"\n"
     ]
    },
    {
     "name": "stdout",
     "output_type": "stream",
     "text": [
      "[100]\tvalid_0's auc: 0.511623\n",
      "[200]\tvalid_0's auc: 0.508867\n",
      "Early stopping, best iteration is:\n",
      "[136]\tvalid_0's auc: 0.522649\n",
      "----------- 6\n",
      "Training until validation scores don't improve for 100 rounds\n"
     ]
    },
    {
     "name": "stderr",
     "output_type": "stream",
     "text": [
      "/home/gitpod/.pyenv/versions/3.8.13/lib/python3.8/site-packages/lightgbm/engine.py:181: UserWarning: 'early_stopping_rounds' argument is deprecated and will be removed in a future release of LightGBM. Pass 'early_stopping()' callback via 'callbacks' argument instead.\n",
      "  _log_warning(\"'early_stopping_rounds' argument is deprecated and will be removed in a future release of LightGBM. \"\n",
      "/home/gitpod/.pyenv/versions/3.8.13/lib/python3.8/site-packages/lightgbm/engine.py:239: UserWarning: 'verbose_eval' argument is deprecated and will be removed in a future release of LightGBM. Pass 'log_evaluation()' callback via 'callbacks' argument instead.\n",
      "  _log_warning(\"'verbose_eval' argument is deprecated and will be removed in a future release of LightGBM. \"\n"
     ]
    },
    {
     "name": "stdout",
     "output_type": "stream",
     "text": [
      "[100]\tvalid_0's auc: 0.508182\n",
      "Early stopping, best iteration is:\n",
      "[1]\tvalid_0's auc: 0.527102\n",
      "----------- 7\n",
      "Training until validation scores don't improve for 100 rounds\n"
     ]
    },
    {
     "name": "stderr",
     "output_type": "stream",
     "text": [
      "/home/gitpod/.pyenv/versions/3.8.13/lib/python3.8/site-packages/lightgbm/engine.py:181: UserWarning: 'early_stopping_rounds' argument is deprecated and will be removed in a future release of LightGBM. Pass 'early_stopping()' callback via 'callbacks' argument instead.\n",
      "  _log_warning(\"'early_stopping_rounds' argument is deprecated and will be removed in a future release of LightGBM. \"\n",
      "/home/gitpod/.pyenv/versions/3.8.13/lib/python3.8/site-packages/lightgbm/engine.py:239: UserWarning: 'verbose_eval' argument is deprecated and will be removed in a future release of LightGBM. Pass 'log_evaluation()' callback via 'callbacks' argument instead.\n",
      "  _log_warning(\"'verbose_eval' argument is deprecated and will be removed in a future release of LightGBM. \"\n"
     ]
    },
    {
     "name": "stdout",
     "output_type": "stream",
     "text": [
      "[100]\tvalid_0's auc: 0.51669\n",
      "[200]\tvalid_0's auc: 0.513474\n",
      "Early stopping, best iteration is:\n",
      "[106]\tvalid_0's auc: 0.520207\n",
      "----------- 8\n"
     ]
    },
    {
     "name": "stderr",
     "output_type": "stream",
     "text": [
      "/home/gitpod/.pyenv/versions/3.8.13/lib/python3.8/site-packages/lightgbm/engine.py:181: UserWarning: 'early_stopping_rounds' argument is deprecated and will be removed in a future release of LightGBM. Pass 'early_stopping()' callback via 'callbacks' argument instead.\n",
      "  _log_warning(\"'early_stopping_rounds' argument is deprecated and will be removed in a future release of LightGBM. \"\n",
      "/home/gitpod/.pyenv/versions/3.8.13/lib/python3.8/site-packages/lightgbm/engine.py:239: UserWarning: 'verbose_eval' argument is deprecated and will be removed in a future release of LightGBM. Pass 'log_evaluation()' callback via 'callbacks' argument instead.\n",
      "  _log_warning(\"'verbose_eval' argument is deprecated and will be removed in a future release of LightGBM. \"\n"
     ]
    },
    {
     "name": "stdout",
     "output_type": "stream",
     "text": [
      "Training until validation scores don't improve for 100 rounds\n",
      "[100]\tvalid_0's auc: 0.520983\n",
      "[200]\tvalid_0's auc: 0.527586\n",
      "Early stopping, best iteration is:\n",
      "[137]\tvalid_0's auc: 0.527941\n",
      "----------- 9\n"
     ]
    },
    {
     "name": "stderr",
     "output_type": "stream",
     "text": [
      "/home/gitpod/.pyenv/versions/3.8.13/lib/python3.8/site-packages/lightgbm/engine.py:181: UserWarning: 'early_stopping_rounds' argument is deprecated and will be removed in a future release of LightGBM. Pass 'early_stopping()' callback via 'callbacks' argument instead.\n",
      "  _log_warning(\"'early_stopping_rounds' argument is deprecated and will be removed in a future release of LightGBM. \"\n",
      "/home/gitpod/.pyenv/versions/3.8.13/lib/python3.8/site-packages/lightgbm/engine.py:239: UserWarning: 'verbose_eval' argument is deprecated and will be removed in a future release of LightGBM. Pass 'log_evaluation()' callback via 'callbacks' argument instead.\n",
      "  _log_warning(\"'verbose_eval' argument is deprecated and will be removed in a future release of LightGBM. \"\n"
     ]
    },
    {
     "name": "stdout",
     "output_type": "stream",
     "text": [
      "Training until validation scores don't improve for 100 rounds\n",
      "[100]\tvalid_0's auc: 0.527417\n",
      "Early stopping, best iteration is:\n",
      "[3]\tvalid_0's auc: 0.553712\n"
     ]
    }
   ],
   "source": [
    "seeds = [2021]\n",
    "oof = np.zeros(len(df_train))\n",
    "importance = 0\n",
    "fold_num = 10\n",
    "pred_y = pd.DataFrame()\n",
    "\n",
    "# 交叉验证\n",
    "for seed in seeds:\n",
    "    print('############################', seed)\n",
    "    kf = StratifiedKFold(n_splits=fold_num, shuffle=True, random_state=seed)\n",
    "    for fold, (train_idx, val_idx) in enumerate(kf.split(df_train[feats], df_train[LABEL])):\n",
    "        print('-----------', fold)\n",
    "        train = lgb.Dataset(df_train.loc[train_idx, feats],\n",
    "                            df_train.loc[train_idx, LABEL])\n",
    "        val = lgb.Dataset(df_train.loc[val_idx, feats],\n",
    "                          df_train.loc[val_idx, LABEL])\n",
    "        model = lgb.train(params, train, valid_sets=val, num_boost_round=10000,\n",
    "                          early_stopping_rounds=100, verbose_eval=100)\n",
    "\n",
    "        oof[val_idx] += model.predict(df_train.loc[val_idx, feats]) / len(seeds)\n",
    "        pred_y['fold_%d_seed_%d'%(fold, seed)] = model.predict(df_test[feats])\n",
    "        importance += model.feature_importance(importance_type='gain')/fold_num"
   ]
  },
  {
   "cell_type": "code",
   "execution_count": 68,
   "metadata": {},
   "outputs": [
    {
     "data": {
      "text/html": [
       "<div>\n",
       "<style scoped>\n",
       "    .dataframe tbody tr th:only-of-type {\n",
       "        vertical-align: middle;\n",
       "    }\n",
       "\n",
       "    .dataframe tbody tr th {\n",
       "        vertical-align: top;\n",
       "    }\n",
       "\n",
       "    .dataframe thead th {\n",
       "        text-align: right;\n",
       "    }\n",
       "</style>\n",
       "<table border=\"1\" class=\"dataframe\">\n",
       "  <thead>\n",
       "    <tr style=\"text-align: right;\">\n",
       "      <th></th>\n",
       "      <th>fold_0_seed_2021</th>\n",
       "      <th>fold_1_seed_2021</th>\n",
       "      <th>fold_2_seed_2021</th>\n",
       "      <th>fold_3_seed_2021</th>\n",
       "      <th>fold_4_seed_2021</th>\n",
       "      <th>fold_5_seed_2021</th>\n",
       "      <th>fold_6_seed_2021</th>\n",
       "      <th>fold_7_seed_2021</th>\n",
       "      <th>fold_8_seed_2021</th>\n",
       "      <th>fold_9_seed_2021</th>\n",
       "    </tr>\n",
       "  </thead>\n",
       "  <tbody>\n",
       "    <tr>\n",
       "      <th>0</th>\n",
       "      <td>0.214038</td>\n",
       "      <td>0.128706</td>\n",
       "      <td>0.187883</td>\n",
       "      <td>0.197143</td>\n",
       "      <td>0.195161</td>\n",
       "      <td>0.125202</td>\n",
       "      <td>0.212547</td>\n",
       "      <td>0.138900</td>\n",
       "      <td>0.160376</td>\n",
       "      <td>0.194740</td>\n",
       "    </tr>\n",
       "    <tr>\n",
       "      <th>1</th>\n",
       "      <td>0.185360</td>\n",
       "      <td>0.245288</td>\n",
       "      <td>0.186160</td>\n",
       "      <td>0.315464</td>\n",
       "      <td>0.195161</td>\n",
       "      <td>0.320479</td>\n",
       "      <td>0.194946</td>\n",
       "      <td>0.222511</td>\n",
       "      <td>0.280848</td>\n",
       "      <td>0.194740</td>\n",
       "    </tr>\n",
       "    <tr>\n",
       "      <th>2</th>\n",
       "      <td>0.212769</td>\n",
       "      <td>0.197814</td>\n",
       "      <td>0.192663</td>\n",
       "      <td>0.156851</td>\n",
       "      <td>0.196120</td>\n",
       "      <td>0.103962</td>\n",
       "      <td>0.197862</td>\n",
       "      <td>0.179805</td>\n",
       "      <td>0.148155</td>\n",
       "      <td>0.196693</td>\n",
       "    </tr>\n",
       "    <tr>\n",
       "      <th>3</th>\n",
       "      <td>0.320877</td>\n",
       "      <td>0.212664</td>\n",
       "      <td>0.197902</td>\n",
       "      <td>0.345416</td>\n",
       "      <td>0.195161</td>\n",
       "      <td>0.279643</td>\n",
       "      <td>0.212547</td>\n",
       "      <td>0.226014</td>\n",
       "      <td>0.302799</td>\n",
       "      <td>0.194740</td>\n",
       "    </tr>\n",
       "    <tr>\n",
       "      <th>4</th>\n",
       "      <td>0.248650</td>\n",
       "      <td>0.163068</td>\n",
       "      <td>0.187824</td>\n",
       "      <td>0.193006</td>\n",
       "      <td>0.195161</td>\n",
       "      <td>0.250472</td>\n",
       "      <td>0.194946</td>\n",
       "      <td>0.205050</td>\n",
       "      <td>0.258180</td>\n",
       "      <td>0.194740</td>\n",
       "    </tr>\n",
       "    <tr>\n",
       "      <th>...</th>\n",
       "      <td>...</td>\n",
       "      <td>...</td>\n",
       "      <td>...</td>\n",
       "      <td>...</td>\n",
       "      <td>...</td>\n",
       "      <td>...</td>\n",
       "      <td>...</td>\n",
       "      <td>...</td>\n",
       "      <td>...</td>\n",
       "      <td>...</td>\n",
       "    </tr>\n",
       "    <tr>\n",
       "      <th>9995</th>\n",
       "      <td>0.191282</td>\n",
       "      <td>0.202966</td>\n",
       "      <td>0.215640</td>\n",
       "      <td>0.190242</td>\n",
       "      <td>0.200812</td>\n",
       "      <td>0.272564</td>\n",
       "      <td>0.197862</td>\n",
       "      <td>0.201215</td>\n",
       "      <td>0.237589</td>\n",
       "      <td>0.202658</td>\n",
       "    </tr>\n",
       "    <tr>\n",
       "      <th>9996</th>\n",
       "      <td>0.287578</td>\n",
       "      <td>0.218022</td>\n",
       "      <td>0.216185</td>\n",
       "      <td>0.193700</td>\n",
       "      <td>0.195161</td>\n",
       "      <td>0.298699</td>\n",
       "      <td>0.212547</td>\n",
       "      <td>0.275335</td>\n",
       "      <td>0.156865</td>\n",
       "      <td>0.194740</td>\n",
       "    </tr>\n",
       "    <tr>\n",
       "      <th>9997</th>\n",
       "      <td>0.324800</td>\n",
       "      <td>0.226623</td>\n",
       "      <td>0.221910</td>\n",
       "      <td>0.271162</td>\n",
       "      <td>0.200812</td>\n",
       "      <td>0.283602</td>\n",
       "      <td>0.197862</td>\n",
       "      <td>0.263231</td>\n",
       "      <td>0.284173</td>\n",
       "      <td>0.209497</td>\n",
       "    </tr>\n",
       "    <tr>\n",
       "      <th>9998</th>\n",
       "      <td>0.276765</td>\n",
       "      <td>0.205150</td>\n",
       "      <td>0.221910</td>\n",
       "      <td>0.215708</td>\n",
       "      <td>0.195161</td>\n",
       "      <td>0.326603</td>\n",
       "      <td>0.194946</td>\n",
       "      <td>0.276279</td>\n",
       "      <td>0.277403</td>\n",
       "      <td>0.194740</td>\n",
       "    </tr>\n",
       "    <tr>\n",
       "      <th>9999</th>\n",
       "      <td>0.267364</td>\n",
       "      <td>0.203783</td>\n",
       "      <td>0.204320</td>\n",
       "      <td>0.302571</td>\n",
       "      <td>0.195161</td>\n",
       "      <td>0.264785</td>\n",
       "      <td>0.212547</td>\n",
       "      <td>0.235992</td>\n",
       "      <td>0.176437</td>\n",
       "      <td>0.194740</td>\n",
       "    </tr>\n",
       "  </tbody>\n",
       "</table>\n",
       "<p>10000 rows × 10 columns</p>\n",
       "</div>"
      ],
      "text/plain": [
       "      fold_0_seed_2021  fold_1_seed_2021  fold_2_seed_2021  fold_3_seed_2021  \\\n",
       "0             0.214038          0.128706          0.187883          0.197143   \n",
       "1             0.185360          0.245288          0.186160          0.315464   \n",
       "2             0.212769          0.197814          0.192663          0.156851   \n",
       "3             0.320877          0.212664          0.197902          0.345416   \n",
       "4             0.248650          0.163068          0.187824          0.193006   \n",
       "...                ...               ...               ...               ...   \n",
       "9995          0.191282          0.202966          0.215640          0.190242   \n",
       "9996          0.287578          0.218022          0.216185          0.193700   \n",
       "9997          0.324800          0.226623          0.221910          0.271162   \n",
       "9998          0.276765          0.205150          0.221910          0.215708   \n",
       "9999          0.267364          0.203783          0.204320          0.302571   \n",
       "\n",
       "      fold_4_seed_2021  fold_5_seed_2021  fold_6_seed_2021  fold_7_seed_2021  \\\n",
       "0             0.195161          0.125202          0.212547          0.138900   \n",
       "1             0.195161          0.320479          0.194946          0.222511   \n",
       "2             0.196120          0.103962          0.197862          0.179805   \n",
       "3             0.195161          0.279643          0.212547          0.226014   \n",
       "4             0.195161          0.250472          0.194946          0.205050   \n",
       "...                ...               ...               ...               ...   \n",
       "9995          0.200812          0.272564          0.197862          0.201215   \n",
       "9996          0.195161          0.298699          0.212547          0.275335   \n",
       "9997          0.200812          0.283602          0.197862          0.263231   \n",
       "9998          0.195161          0.326603          0.194946          0.276279   \n",
       "9999          0.195161          0.264785          0.212547          0.235992   \n",
       "\n",
       "      fold_8_seed_2021  fold_9_seed_2021  \n",
       "0             0.160376          0.194740  \n",
       "1             0.280848          0.194740  \n",
       "2             0.148155          0.196693  \n",
       "3             0.302799          0.194740  \n",
       "4             0.258180          0.194740  \n",
       "...                ...               ...  \n",
       "9995          0.237589          0.202658  \n",
       "9996          0.156865          0.194740  \n",
       "9997          0.284173          0.209497  \n",
       "9998          0.277403          0.194740  \n",
       "9999          0.176437          0.194740  \n",
       "\n",
       "[10000 rows x 10 columns]"
      ]
     },
     "execution_count": 68,
     "metadata": {},
     "output_type": "execute_result"
    }
   ],
   "source": [
    "pred_y"
   ]
  },
  {
   "cell_type": "code",
   "execution_count": 69,
   "metadata": {},
   "outputs": [
    {
     "name": "stdout",
     "output_type": "stream",
     "text": [
      "0.5259922841279606\n",
      "                     name   importance\n",
      "24               ts_diff2  1252.395027\n",
      "22                ts_diff  1151.849817\n",
      "20                  op_ts   945.572552\n",
      "19                sec_cos   668.319933\n",
      "17                    sec   663.585258\n",
      "18                sec_sin   661.357806\n",
      "21                last_ts   530.540512\n",
      "23               last_ts2   411.898174\n",
      "51  user_name_ts_diffskew   295.957002\n",
      "0               user_name   244.324481\n"
     ]
    },
    {
     "ename": "OSError",
     "evalue": "Cannot save file into a non-existent directory: 'ans'",
     "output_type": "error",
     "traceback": [
      "\u001b[0;31m---------------------------------------------------------------------------\u001b[0m",
      "\u001b[0;31mOSError\u001b[0m                                   Traceback (most recent call last)",
      "\u001b[1;32m/workspace/Z-Lab/2021 CCF BDCI/系统认证风险预测Rank1/study.ipynb Cell 20'\u001b[0m in \u001b[0;36m<cell line: 17>\u001b[0;34m()\u001b[0m\n\u001b[1;32m     <a href='vscode-notebook-cell://xihuishawpy-zlab-eqfapurq51f.ws-us45.gitpod.io/workspace/Z-Lab/2021%20CCF%20BDCI/%E7%B3%BB%E7%BB%9F%E8%AE%A4%E8%AF%81%E9%A3%8E%E9%99%A9%E9%A2%84%E6%B5%8BRank1/study.ipynb#ch0000021vscode-remote?line=12'>13</a>\u001b[0m pred_y \u001b[39m=\u001b[39m pred_y\u001b[39m.\u001b[39mmean(axis\u001b[39m=\u001b[39m\u001b[39m1\u001b[39m)\n\u001b[1;32m     <a href='vscode-notebook-cell://xihuishawpy-zlab-eqfapurq51f.ws-us45.gitpod.io/workspace/Z-Lab/2021%20CCF%20BDCI/%E7%B3%BB%E7%BB%9F%E8%AE%A4%E8%AF%81%E9%A3%8E%E9%99%A9%E9%A2%84%E6%B5%8BRank1/study.ipynb#ch0000021vscode-remote?line=13'>14</a>\u001b[0m sub[\u001b[39m'\u001b[39m\u001b[39mret\u001b[39m\u001b[39m'\u001b[39m] \u001b[39m=\u001b[39m pred_y\n\u001b[0;32m---> <a href='vscode-notebook-cell://xihuishawpy-zlab-eqfapurq51f.ws-us45.gitpod.io/workspace/Z-Lab/2021%20CCF%20BDCI/%E7%B3%BB%E7%BB%9F%E8%AE%A4%E8%AF%81%E9%A3%8E%E9%99%A9%E9%A2%84%E6%B5%8BRank1/study.ipynb#ch0000021vscode-remote?line=16'>17</a>\u001b[0m sub[[\u001b[39m'\u001b[39;49m\u001b[39mid\u001b[39;49m\u001b[39m'\u001b[39;49m, \u001b[39m'\u001b[39;49m\u001b[39mret\u001b[39;49m\u001b[39m'\u001b[39;49m]]\u001b[39m.\u001b[39;49mto_csv(\u001b[39m'\u001b[39;49m\u001b[39mans/lgb_5272.csv\u001b[39;49m\u001b[39m'\u001b[39;49m, index\u001b[39m=\u001b[39;49m\u001b[39mFalse\u001b[39;49;00m)\n",
      "File \u001b[0;32m~/.pyenv/versions/3.8.13/lib/python3.8/site-packages/pandas/core/generic.py:3551\u001b[0m, in \u001b[0;36mNDFrame.to_csv\u001b[0;34m(self, path_or_buf, sep, na_rep, float_format, columns, header, index, index_label, mode, encoding, compression, quoting, quotechar, line_terminator, chunksize, date_format, doublequote, escapechar, decimal, errors, storage_options)\u001b[0m\n\u001b[1;32m   <a href='file:///home/gitpod/.pyenv/versions/3.8.13/lib/python3.8/site-packages/pandas/core/generic.py?line=3539'>3540</a>\u001b[0m df \u001b[39m=\u001b[39m \u001b[39mself\u001b[39m \u001b[39mif\u001b[39;00m \u001b[39misinstance\u001b[39m(\u001b[39mself\u001b[39m, ABCDataFrame) \u001b[39melse\u001b[39;00m \u001b[39mself\u001b[39m\u001b[39m.\u001b[39mto_frame()\n\u001b[1;32m   <a href='file:///home/gitpod/.pyenv/versions/3.8.13/lib/python3.8/site-packages/pandas/core/generic.py?line=3541'>3542</a>\u001b[0m formatter \u001b[39m=\u001b[39m DataFrameFormatter(\n\u001b[1;32m   <a href='file:///home/gitpod/.pyenv/versions/3.8.13/lib/python3.8/site-packages/pandas/core/generic.py?line=3542'>3543</a>\u001b[0m     frame\u001b[39m=\u001b[39mdf,\n\u001b[1;32m   <a href='file:///home/gitpod/.pyenv/versions/3.8.13/lib/python3.8/site-packages/pandas/core/generic.py?line=3543'>3544</a>\u001b[0m     header\u001b[39m=\u001b[39mheader,\n\u001b[0;32m   (...)\u001b[0m\n\u001b[1;32m   <a href='file:///home/gitpod/.pyenv/versions/3.8.13/lib/python3.8/site-packages/pandas/core/generic.py?line=3547'>3548</a>\u001b[0m     decimal\u001b[39m=\u001b[39mdecimal,\n\u001b[1;32m   <a href='file:///home/gitpod/.pyenv/versions/3.8.13/lib/python3.8/site-packages/pandas/core/generic.py?line=3548'>3549</a>\u001b[0m )\n\u001b[0;32m-> <a href='file:///home/gitpod/.pyenv/versions/3.8.13/lib/python3.8/site-packages/pandas/core/generic.py?line=3550'>3551</a>\u001b[0m \u001b[39mreturn\u001b[39;00m DataFrameRenderer(formatter)\u001b[39m.\u001b[39;49mto_csv(\n\u001b[1;32m   <a href='file:///home/gitpod/.pyenv/versions/3.8.13/lib/python3.8/site-packages/pandas/core/generic.py?line=3551'>3552</a>\u001b[0m     path_or_buf,\n\u001b[1;32m   <a href='file:///home/gitpod/.pyenv/versions/3.8.13/lib/python3.8/site-packages/pandas/core/generic.py?line=3552'>3553</a>\u001b[0m     line_terminator\u001b[39m=\u001b[39;49mline_terminator,\n\u001b[1;32m   <a href='file:///home/gitpod/.pyenv/versions/3.8.13/lib/python3.8/site-packages/pandas/core/generic.py?line=3553'>3554</a>\u001b[0m     sep\u001b[39m=\u001b[39;49msep,\n\u001b[1;32m   <a href='file:///home/gitpod/.pyenv/versions/3.8.13/lib/python3.8/site-packages/pandas/core/generic.py?line=3554'>3555</a>\u001b[0m     encoding\u001b[39m=\u001b[39;49mencoding,\n\u001b[1;32m   <a href='file:///home/gitpod/.pyenv/versions/3.8.13/lib/python3.8/site-packages/pandas/core/generic.py?line=3555'>3556</a>\u001b[0m     errors\u001b[39m=\u001b[39;49merrors,\n\u001b[1;32m   <a href='file:///home/gitpod/.pyenv/versions/3.8.13/lib/python3.8/site-packages/pandas/core/generic.py?line=3556'>3557</a>\u001b[0m     compression\u001b[39m=\u001b[39;49mcompression,\n\u001b[1;32m   <a href='file:///home/gitpod/.pyenv/versions/3.8.13/lib/python3.8/site-packages/pandas/core/generic.py?line=3557'>3558</a>\u001b[0m     quoting\u001b[39m=\u001b[39;49mquoting,\n\u001b[1;32m   <a href='file:///home/gitpod/.pyenv/versions/3.8.13/lib/python3.8/site-packages/pandas/core/generic.py?line=3558'>3559</a>\u001b[0m     columns\u001b[39m=\u001b[39;49mcolumns,\n\u001b[1;32m   <a href='file:///home/gitpod/.pyenv/versions/3.8.13/lib/python3.8/site-packages/pandas/core/generic.py?line=3559'>3560</a>\u001b[0m     index_label\u001b[39m=\u001b[39;49mindex_label,\n\u001b[1;32m   <a href='file:///home/gitpod/.pyenv/versions/3.8.13/lib/python3.8/site-packages/pandas/core/generic.py?line=3560'>3561</a>\u001b[0m     mode\u001b[39m=\u001b[39;49mmode,\n\u001b[1;32m   <a href='file:///home/gitpod/.pyenv/versions/3.8.13/lib/python3.8/site-packages/pandas/core/generic.py?line=3561'>3562</a>\u001b[0m     chunksize\u001b[39m=\u001b[39;49mchunksize,\n\u001b[1;32m   <a href='file:///home/gitpod/.pyenv/versions/3.8.13/lib/python3.8/site-packages/pandas/core/generic.py?line=3562'>3563</a>\u001b[0m     quotechar\u001b[39m=\u001b[39;49mquotechar,\n\u001b[1;32m   <a href='file:///home/gitpod/.pyenv/versions/3.8.13/lib/python3.8/site-packages/pandas/core/generic.py?line=3563'>3564</a>\u001b[0m     date_format\u001b[39m=\u001b[39;49mdate_format,\n\u001b[1;32m   <a href='file:///home/gitpod/.pyenv/versions/3.8.13/lib/python3.8/site-packages/pandas/core/generic.py?line=3564'>3565</a>\u001b[0m     doublequote\u001b[39m=\u001b[39;49mdoublequote,\n\u001b[1;32m   <a href='file:///home/gitpod/.pyenv/versions/3.8.13/lib/python3.8/site-packages/pandas/core/generic.py?line=3565'>3566</a>\u001b[0m     escapechar\u001b[39m=\u001b[39;49mescapechar,\n\u001b[1;32m   <a href='file:///home/gitpod/.pyenv/versions/3.8.13/lib/python3.8/site-packages/pandas/core/generic.py?line=3566'>3567</a>\u001b[0m     storage_options\u001b[39m=\u001b[39;49mstorage_options,\n\u001b[1;32m   <a href='file:///home/gitpod/.pyenv/versions/3.8.13/lib/python3.8/site-packages/pandas/core/generic.py?line=3567'>3568</a>\u001b[0m )\n",
      "File \u001b[0;32m~/.pyenv/versions/3.8.13/lib/python3.8/site-packages/pandas/io/formats/format.py:1180\u001b[0m, in \u001b[0;36mDataFrameRenderer.to_csv\u001b[0;34m(self, path_or_buf, encoding, sep, columns, index_label, mode, compression, quoting, quotechar, line_terminator, chunksize, date_format, doublequote, escapechar, errors, storage_options)\u001b[0m\n\u001b[1;32m   <a href='file:///home/gitpod/.pyenv/versions/3.8.13/lib/python3.8/site-packages/pandas/io/formats/format.py?line=1158'>1159</a>\u001b[0m     created_buffer \u001b[39m=\u001b[39m \u001b[39mFalse\u001b[39;00m\n\u001b[1;32m   <a href='file:///home/gitpod/.pyenv/versions/3.8.13/lib/python3.8/site-packages/pandas/io/formats/format.py?line=1160'>1161</a>\u001b[0m csv_formatter \u001b[39m=\u001b[39m CSVFormatter(\n\u001b[1;32m   <a href='file:///home/gitpod/.pyenv/versions/3.8.13/lib/python3.8/site-packages/pandas/io/formats/format.py?line=1161'>1162</a>\u001b[0m     path_or_buf\u001b[39m=\u001b[39mpath_or_buf,\n\u001b[1;32m   <a href='file:///home/gitpod/.pyenv/versions/3.8.13/lib/python3.8/site-packages/pandas/io/formats/format.py?line=1162'>1163</a>\u001b[0m     line_terminator\u001b[39m=\u001b[39mline_terminator,\n\u001b[0;32m   (...)\u001b[0m\n\u001b[1;32m   <a href='file:///home/gitpod/.pyenv/versions/3.8.13/lib/python3.8/site-packages/pandas/io/formats/format.py?line=1177'>1178</a>\u001b[0m     formatter\u001b[39m=\u001b[39m\u001b[39mself\u001b[39m\u001b[39m.\u001b[39mfmt,\n\u001b[1;32m   <a href='file:///home/gitpod/.pyenv/versions/3.8.13/lib/python3.8/site-packages/pandas/io/formats/format.py?line=1178'>1179</a>\u001b[0m )\n\u001b[0;32m-> <a href='file:///home/gitpod/.pyenv/versions/3.8.13/lib/python3.8/site-packages/pandas/io/formats/format.py?line=1179'>1180</a>\u001b[0m csv_formatter\u001b[39m.\u001b[39;49msave()\n\u001b[1;32m   <a href='file:///home/gitpod/.pyenv/versions/3.8.13/lib/python3.8/site-packages/pandas/io/formats/format.py?line=1181'>1182</a>\u001b[0m \u001b[39mif\u001b[39;00m created_buffer:\n\u001b[1;32m   <a href='file:///home/gitpod/.pyenv/versions/3.8.13/lib/python3.8/site-packages/pandas/io/formats/format.py?line=1182'>1183</a>\u001b[0m     \u001b[39massert\u001b[39;00m \u001b[39misinstance\u001b[39m(path_or_buf, StringIO)\n",
      "File \u001b[0;32m~/.pyenv/versions/3.8.13/lib/python3.8/site-packages/pandas/io/formats/csvs.py:241\u001b[0m, in \u001b[0;36mCSVFormatter.save\u001b[0;34m(self)\u001b[0m\n\u001b[1;32m    <a href='file:///home/gitpod/.pyenv/versions/3.8.13/lib/python3.8/site-packages/pandas/io/formats/csvs.py?line=236'>237</a>\u001b[0m \u001b[39m\"\"\"\u001b[39;00m\n\u001b[1;32m    <a href='file:///home/gitpod/.pyenv/versions/3.8.13/lib/python3.8/site-packages/pandas/io/formats/csvs.py?line=237'>238</a>\u001b[0m \u001b[39mCreate the writer & save.\u001b[39;00m\n\u001b[1;32m    <a href='file:///home/gitpod/.pyenv/versions/3.8.13/lib/python3.8/site-packages/pandas/io/formats/csvs.py?line=238'>239</a>\u001b[0m \u001b[39m\"\"\"\u001b[39;00m\n\u001b[1;32m    <a href='file:///home/gitpod/.pyenv/versions/3.8.13/lib/python3.8/site-packages/pandas/io/formats/csvs.py?line=239'>240</a>\u001b[0m \u001b[39m# apply compression and byte/text conversion\u001b[39;00m\n\u001b[0;32m--> <a href='file:///home/gitpod/.pyenv/versions/3.8.13/lib/python3.8/site-packages/pandas/io/formats/csvs.py?line=240'>241</a>\u001b[0m \u001b[39mwith\u001b[39;00m get_handle(\n\u001b[1;32m    <a href='file:///home/gitpod/.pyenv/versions/3.8.13/lib/python3.8/site-packages/pandas/io/formats/csvs.py?line=241'>242</a>\u001b[0m     \u001b[39mself\u001b[39;49m\u001b[39m.\u001b[39;49mfilepath_or_buffer,\n\u001b[1;32m    <a href='file:///home/gitpod/.pyenv/versions/3.8.13/lib/python3.8/site-packages/pandas/io/formats/csvs.py?line=242'>243</a>\u001b[0m     \u001b[39mself\u001b[39;49m\u001b[39m.\u001b[39;49mmode,\n\u001b[1;32m    <a href='file:///home/gitpod/.pyenv/versions/3.8.13/lib/python3.8/site-packages/pandas/io/formats/csvs.py?line=243'>244</a>\u001b[0m     encoding\u001b[39m=\u001b[39;49m\u001b[39mself\u001b[39;49m\u001b[39m.\u001b[39;49mencoding,\n\u001b[1;32m    <a href='file:///home/gitpod/.pyenv/versions/3.8.13/lib/python3.8/site-packages/pandas/io/formats/csvs.py?line=244'>245</a>\u001b[0m     errors\u001b[39m=\u001b[39;49m\u001b[39mself\u001b[39;49m\u001b[39m.\u001b[39;49merrors,\n\u001b[1;32m    <a href='file:///home/gitpod/.pyenv/versions/3.8.13/lib/python3.8/site-packages/pandas/io/formats/csvs.py?line=245'>246</a>\u001b[0m     compression\u001b[39m=\u001b[39;49m\u001b[39mself\u001b[39;49m\u001b[39m.\u001b[39;49mcompression,\n\u001b[1;32m    <a href='file:///home/gitpod/.pyenv/versions/3.8.13/lib/python3.8/site-packages/pandas/io/formats/csvs.py?line=246'>247</a>\u001b[0m     storage_options\u001b[39m=\u001b[39;49m\u001b[39mself\u001b[39;49m\u001b[39m.\u001b[39;49mstorage_options,\n\u001b[1;32m    <a href='file:///home/gitpod/.pyenv/versions/3.8.13/lib/python3.8/site-packages/pandas/io/formats/csvs.py?line=247'>248</a>\u001b[0m ) \u001b[39mas\u001b[39;00m handles:\n\u001b[1;32m    <a href='file:///home/gitpod/.pyenv/versions/3.8.13/lib/python3.8/site-packages/pandas/io/formats/csvs.py?line=248'>249</a>\u001b[0m \n\u001b[1;32m    <a href='file:///home/gitpod/.pyenv/versions/3.8.13/lib/python3.8/site-packages/pandas/io/formats/csvs.py?line=249'>250</a>\u001b[0m     \u001b[39m# Note: self.encoding is irrelevant here\u001b[39;00m\n\u001b[1;32m    <a href='file:///home/gitpod/.pyenv/versions/3.8.13/lib/python3.8/site-packages/pandas/io/formats/csvs.py?line=250'>251</a>\u001b[0m     \u001b[39mself\u001b[39m\u001b[39m.\u001b[39mwriter \u001b[39m=\u001b[39m csvlib\u001b[39m.\u001b[39mwriter(\n\u001b[1;32m    <a href='file:///home/gitpod/.pyenv/versions/3.8.13/lib/python3.8/site-packages/pandas/io/formats/csvs.py?line=251'>252</a>\u001b[0m         handles\u001b[39m.\u001b[39mhandle,\n\u001b[1;32m    <a href='file:///home/gitpod/.pyenv/versions/3.8.13/lib/python3.8/site-packages/pandas/io/formats/csvs.py?line=252'>253</a>\u001b[0m         lineterminator\u001b[39m=\u001b[39m\u001b[39mself\u001b[39m\u001b[39m.\u001b[39mline_terminator,\n\u001b[0;32m   (...)\u001b[0m\n\u001b[1;32m    <a href='file:///home/gitpod/.pyenv/versions/3.8.13/lib/python3.8/site-packages/pandas/io/formats/csvs.py?line=257'>258</a>\u001b[0m         quotechar\u001b[39m=\u001b[39m\u001b[39mself\u001b[39m\u001b[39m.\u001b[39mquotechar,\n\u001b[1;32m    <a href='file:///home/gitpod/.pyenv/versions/3.8.13/lib/python3.8/site-packages/pandas/io/formats/csvs.py?line=258'>259</a>\u001b[0m     )\n\u001b[1;32m    <a href='file:///home/gitpod/.pyenv/versions/3.8.13/lib/python3.8/site-packages/pandas/io/formats/csvs.py?line=260'>261</a>\u001b[0m     \u001b[39mself\u001b[39m\u001b[39m.\u001b[39m_save()\n",
      "File \u001b[0;32m~/.pyenv/versions/3.8.13/lib/python3.8/site-packages/pandas/io/common.py:697\u001b[0m, in \u001b[0;36mget_handle\u001b[0;34m(path_or_buf, mode, encoding, compression, memory_map, is_text, errors, storage_options)\u001b[0m\n\u001b[1;32m    <a href='file:///home/gitpod/.pyenv/versions/3.8.13/lib/python3.8/site-packages/pandas/io/common.py?line=694'>695</a>\u001b[0m \u001b[39m# Only for write methods\u001b[39;00m\n\u001b[1;32m    <a href='file:///home/gitpod/.pyenv/versions/3.8.13/lib/python3.8/site-packages/pandas/io/common.py?line=695'>696</a>\u001b[0m \u001b[39mif\u001b[39;00m \u001b[39m\"\u001b[39m\u001b[39mr\u001b[39m\u001b[39m\"\u001b[39m \u001b[39mnot\u001b[39;00m \u001b[39min\u001b[39;00m mode \u001b[39mand\u001b[39;00m is_path:\n\u001b[0;32m--> <a href='file:///home/gitpod/.pyenv/versions/3.8.13/lib/python3.8/site-packages/pandas/io/common.py?line=696'>697</a>\u001b[0m     check_parent_directory(\u001b[39mstr\u001b[39;49m(handle))\n\u001b[1;32m    <a href='file:///home/gitpod/.pyenv/versions/3.8.13/lib/python3.8/site-packages/pandas/io/common.py?line=698'>699</a>\u001b[0m \u001b[39mif\u001b[39;00m compression:\n\u001b[1;32m    <a href='file:///home/gitpod/.pyenv/versions/3.8.13/lib/python3.8/site-packages/pandas/io/common.py?line=699'>700</a>\u001b[0m     \u001b[39mif\u001b[39;00m compression \u001b[39m!=\u001b[39m \u001b[39m\"\u001b[39m\u001b[39mzstd\u001b[39m\u001b[39m\"\u001b[39m:\n\u001b[1;32m    <a href='file:///home/gitpod/.pyenv/versions/3.8.13/lib/python3.8/site-packages/pandas/io/common.py?line=700'>701</a>\u001b[0m         \u001b[39m# compression libraries do not like an explicit text-mode\u001b[39;00m\n",
      "File \u001b[0;32m~/.pyenv/versions/3.8.13/lib/python3.8/site-packages/pandas/io/common.py:571\u001b[0m, in \u001b[0;36mcheck_parent_directory\u001b[0;34m(path)\u001b[0m\n\u001b[1;32m    <a href='file:///home/gitpod/.pyenv/versions/3.8.13/lib/python3.8/site-packages/pandas/io/common.py?line=568'>569</a>\u001b[0m parent \u001b[39m=\u001b[39m Path(path)\u001b[39m.\u001b[39mparent\n\u001b[1;32m    <a href='file:///home/gitpod/.pyenv/versions/3.8.13/lib/python3.8/site-packages/pandas/io/common.py?line=569'>570</a>\u001b[0m \u001b[39mif\u001b[39;00m \u001b[39mnot\u001b[39;00m parent\u001b[39m.\u001b[39mis_dir():\n\u001b[0;32m--> <a href='file:///home/gitpod/.pyenv/versions/3.8.13/lib/python3.8/site-packages/pandas/io/common.py?line=570'>571</a>\u001b[0m     \u001b[39mraise\u001b[39;00m \u001b[39mOSError\u001b[39;00m(\u001b[39mrf\u001b[39m\u001b[39m\"\u001b[39m\u001b[39mCannot save file into a non-existent directory: \u001b[39m\u001b[39m'\u001b[39m\u001b[39m{\u001b[39;00mparent\u001b[39m}\u001b[39;00m\u001b[39m'\u001b[39m\u001b[39m\"\u001b[39m)\n",
      "\u001b[0;31mOSError\u001b[0m: Cannot save file into a non-existent directory: 'ans'"
     ]
    }
   ],
   "source": [
    "df_train['oof'] = oof\n",
    "score = roc_auc_score(df_train[LABEL], df_train['oof'])\n",
    "print(score)\n",
    "\n",
    "feats_importance = pd.DataFrame()\n",
    "feats_importance['name'] = feats\n",
    "feats_importance['importance'] = importance\n",
    "print(feats_importance.sort_values('importance', ascending=False)[:10])\n",
    "\n",
    "sub = pd.read_csv('data/submit_example.csv')\n",
    "\n",
    "# 10折取平均\n",
    "pred_y = pred_y.mean(axis=1)\n",
    "sub['ret'] = pred_y\n",
    "\n",
    "\n",
    "sub[['id', 'ret']].to_csv('ans/lgb_5272.csv', index=False)\n",
    "# df_train.to_csv('train.csv')"
   ]
  }
 ],
 "metadata": {
  "kernelspec": {
   "display_name": "Python 3.8.13 64-bit ('3.8.13')",
   "language": "python",
   "name": "python3"
  },
  "language_info": {
   "codemirror_mode": {
    "name": "ipython",
    "version": 3
   },
   "file_extension": ".py",
   "mimetype": "text/x-python",
   "name": "python",
   "nbconvert_exporter": "python",
   "pygments_lexer": "ipython3",
   "version": "3.8.13"
  },
  "orig_nbformat": 4,
  "vscode": {
   "interpreter": {
    "hash": "110cc1dee26208153f2972f08a2ad52b6a56238dc66d48e87fb757ef2996db56"
   }
  }
 },
 "nbformat": 4,
 "nbformat_minor": 2
}
