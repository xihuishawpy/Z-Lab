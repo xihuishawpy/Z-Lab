{
 "cells": [
  {
   "cell_type": "code",
   "execution_count": 17,
   "metadata": {},
   "outputs": [],
   "source": [
    "import numpy as np\n",
    "import pandas as pd\n",
    "from tqdm import tqdm\n",
    "from sklearn.preprocessing import LabelEncoder\n",
    "from sklearn.model_selection import KFold, StratifiedKFold\n",
    "from sklearn.metrics import roc_auc_score\n",
    "import joblib\n",
    "import json\n",
    "import lightgbm as lgb\n",
    "import warnings\n",
    "warnings.simplefilter('ignore')"
   ]
  },
  {
   "cell_type": "code",
   "execution_count": 9,
   "metadata": {},
   "outputs": [
    {
     "name": "stdout",
     "output_type": "stream",
     "text": [
      "(15016, 19)\n",
      "(10000, 18)\n",
      "(25016, 19)\n"
     ]
    }
   ],
   "source": [
    "train = pd.read_csv('data/train_dataset.csv', sep='\\t')\n",
    "print(train.shape)\n",
    "test = pd.read_csv('data/test_dataset.csv', sep='\\t')\n",
    "print(test.shape)\n",
    "\n",
    "data = pd.concat([train, test])\n",
    "print(data.shape)"
   ]
  },
  {
   "cell_type": "code",
   "execution_count": 13,
   "metadata": {},
   "outputs": [
    {
     "data": {
      "text/plain": [
       "array(['desktop'], dtype=object)"
      ]
     },
     "execution_count": 13,
     "metadata": {},
     "output_type": "execute_result"
    }
   ],
   "source": [
    "data.browser_source.unique()"
   ]
  },
  {
   "cell_type": "code",
   "execution_count": 14,
   "metadata": {},
   "outputs": [],
   "source": [
    "# location\n",
    "data['location_first_lvl'] = data['location'].astype(str).apply(lambda x: json.loads(x)['first_lvl'])\n",
    "data['location_sec_lvl'] = data['location'].astype(str).apply(lambda x: json.loads(x)['sec_lvl'])\n",
    "data['location_third_lvl'] = data['location'].astype(str).apply(lambda x: json.loads(x)['third_lvl'])\n",
    "\n",
    "\n",
    "# 'client_type', 'browser_source' 只有一个取值，直接剔除\n",
    "data.drop(['client_type', 'browser_source'], axis=1, inplace=True)\n",
    "data['auth_type'].fillna('__NaN__', inplace=True)"
   ]
  },
  {
   "cell_type": "code",
   "execution_count": 18,
   "metadata": {},
   "outputs": [
    {
     "name": "stderr",
     "output_type": "stream",
     "text": [
      "\n",
      "100%|██████████| 17/17 [00:00<00:00, 222.23it/s]\n"
     ]
    }
   ],
   "source": [
    "for col in tqdm(['user_name', 'action', 'auth_type', 'ip',\n",
    "                 'ip_location_type_keyword', 'ip_risk_level', 'location', 'device_model',\n",
    "                 'os_type', 'os_version', 'browser_type', 'browser_version',\n",
    "                 'bus_system_code', 'op_target', 'location_first_lvl', 'location_sec_lvl',\n",
    "                 'location_third_lvl']):\n",
    "    lbl = LabelEncoder()\n",
    "    data[col] = lbl.fit_transform(data[col])"
   ]
  },
  {
   "cell_type": "code",
   "execution_count": 19,
   "metadata": {},
   "outputs": [],
   "source": [
    "data['op_date'] = pd.to_datetime(data['op_date'])\n",
    "data['op_ts'] = data[\"op_date\"].values.astype(np.int64) // 10 ** 9\n",
    "data = data.sort_values(by=['user_name', 'op_ts']).reset_index(drop=True)\n",
    "data['last_ts'] = data.groupby(['user_name'])['op_ts'].shift(1)\n",
    "data['ts_diff1'] = data['op_ts'] - data['last_ts']"
   ]
  },
  {
   "cell_type": "code",
   "execution_count": 20,
   "metadata": {},
   "outputs": [],
   "source": [
    "# 计算每个user_name下的特征取值类别数\n",
    "\n",
    "for f in ['ip', 'location', 'device_model', 'os_version', 'browser_version']:\n",
    "    data[f'user_{f}_nunique'] = data.groupby(['user_name'])[f].transform('nunique')"
   ]
  },
  {
   "cell_type": "code",
   "execution_count": 21,
   "metadata": {},
   "outputs": [],
   "source": [
    "for method in ['mean', 'max', 'min', 'std', 'sum', 'median','prod']:\n",
    "    for col in ['user_name', 'ip', 'location', 'device_model', 'os_version', 'browser_version']:\n",
    "        data[f'ts_diff1_{method}_' + str(col)] = data.groupby(col)['ts_diff1'].transform(method)\n"
   ]
  },
  {
   "cell_type": "code",
   "execution_count": 23,
   "metadata": {},
   "outputs": [
    {
     "name": "stdout",
     "output_type": "stream",
     "text": [
      "(15016, 70) (10000, 70)\n"
     ]
    }
   ],
   "source": [
    "train = data[data['risk_label'].notna()]\n",
    "test = data[data['risk_label'].isna()]\n",
    "print(train.shape, test.shape)"
   ]
  },
  {
   "cell_type": "code",
   "execution_count": 25,
   "metadata": {},
   "outputs": [],
   "source": [
    "feature_names = ['last_ts', 'op_ts', 'ts_diff1', 'ts_diff1_mean_user_name', 'ts_diff1_sum_user_name',\n",
    "       'browser_version', 'ts_diff1_max_user_name','ts_diff1_max_browser_version', \n",
    "       'ts_diff1_mean_browser_version', 'ts_diff1_sum_browser_version','user_name', \n",
    "       'ts_diff1_std_browser_version','ts_diff1_std_user_name','bus_system_code', 'ts_diff1_mean_ip', \n",
    "       'auth_type', 'location','ip', 'action','op_target', 'device_model', 'browser_type']"
   ]
  },
  {
   "cell_type": "code",
   "execution_count": 28,
   "metadata": {},
   "outputs": [
    {
     "name": "stdout",
     "output_type": "stream",
     "text": [
      "[LightGBM] [Warning] feature_fraction is set=0.55, colsample_bytree=1.0 will be ignored. Current value: feature_fraction=0.55\n",
      "Fold  1 AUC : 0.525713\n",
      "[LightGBM] [Warning] feature_fraction is set=0.55, colsample_bytree=1.0 will be ignored. Current value: feature_fraction=0.55\n",
      "Fold  2 AUC : 0.518578\n",
      "[LightGBM] [Warning] feature_fraction is set=0.55, colsample_bytree=1.0 will be ignored. Current value: feature_fraction=0.55\n",
      "Fold  3 AUC : 0.516523\n",
      "[LightGBM] [Warning] feature_fraction is set=0.55, colsample_bytree=1.0 will be ignored. Current value: feature_fraction=0.55\n",
      "Fold  4 AUC : 0.497680\n",
      "[LightGBM] [Warning] feature_fraction is set=0.55, colsample_bytree=1.0 will be ignored. Current value: feature_fraction=0.55\n",
      "Fold  5 AUC : 0.548723\n",
      "[LightGBM] [Warning] feature_fraction is set=0.55, colsample_bytree=1.0 will be ignored. Current value: feature_fraction=0.55\n",
      "Fold  6 AUC : 0.519310\n",
      "[LightGBM] [Warning] feature_fraction is set=0.55, colsample_bytree=1.0 will be ignored. Current value: feature_fraction=0.55\n",
      "[100]\ttraining's auc: 0.98529\tvalid_1's auc: 0.48845\n",
      "Fold  7 AUC : 0.500659\n",
      "[LightGBM] [Warning] feature_fraction is set=0.55, colsample_bytree=1.0 will be ignored. Current value: feature_fraction=0.55\n",
      "Fold  8 AUC : 0.512778\n",
      "[LightGBM] [Warning] feature_fraction is set=0.55, colsample_bytree=1.0 will be ignored. Current value: feature_fraction=0.55\n",
      "[100]\ttraining's auc: 0.978503\tvalid_1's auc: 0.496554\n",
      "Fold  9 AUC : 0.500383\n",
      "[LightGBM] [Warning] feature_fraction is set=0.55, colsample_bytree=1.0 will be ignored. Current value: feature_fraction=0.55\n",
      "Fold 10 AUC : 0.497854\n",
      "[LightGBM] [Warning] feature_fraction is set=0.55, colsample_bytree=1.0 will be ignored. Current value: feature_fraction=0.55\n",
      "Fold 11 AUC : 0.521686\n",
      "[LightGBM] [Warning] feature_fraction is set=0.55, colsample_bytree=1.0 will be ignored. Current value: feature_fraction=0.55\n",
      "Fold 12 AUC : 0.560954\n",
      "[LightGBM] [Warning] feature_fraction is set=0.55, colsample_bytree=1.0 will be ignored. Current value: feature_fraction=0.55\n",
      "Fold 13 AUC : 0.552941\n",
      "[LightGBM] [Warning] feature_fraction is set=0.55, colsample_bytree=1.0 will be ignored. Current value: feature_fraction=0.55\n",
      "Fold 14 AUC : 0.575157\n",
      "[LightGBM] [Warning] feature_fraction is set=0.55, colsample_bytree=1.0 will be ignored. Current value: feature_fraction=0.55\n",
      "Fold 15 AUC : 0.516827\n",
      "[LightGBM] [Warning] feature_fraction is set=0.55, colsample_bytree=1.0 will be ignored. Current value: feature_fraction=0.55\n",
      "Fold 16 AUC : 0.536007\n",
      "[LightGBM] [Warning] feature_fraction is set=0.55, colsample_bytree=1.0 will be ignored. Current value: feature_fraction=0.55\n",
      "[100]\ttraining's auc: 0.984459\tvalid_1's auc: 0.506402\n",
      "Fold 17 AUC : 0.517954\n",
      "[LightGBM] [Warning] feature_fraction is set=0.55, colsample_bytree=1.0 will be ignored. Current value: feature_fraction=0.55\n",
      "Fold 18 AUC : 0.535249\n",
      "[LightGBM] [Warning] feature_fraction is set=0.55, colsample_bytree=1.0 will be ignored. Current value: feature_fraction=0.55\n",
      "Fold 19 AUC : 0.527747\n",
      "[LightGBM] [Warning] feature_fraction is set=0.55, colsample_bytree=1.0 will be ignored. Current value: feature_fraction=0.55\n",
      "[100]\ttraining's auc: 0.985623\tvalid_1's auc: 0.516894\n",
      "Fold 20 AUC : 0.523674\n",
      "Full AUC score 0.522852\n",
      "                           column  importance\n",
      "0                         last_ts     2018.15\n",
      "1                           op_ts     1529.45\n",
      "2                        ts_diff1     1231.65\n",
      "3         ts_diff1_mean_user_name      439.55\n",
      "4          ts_diff1_sum_user_name      253.05\n",
      "5                 browser_version      248.90\n",
      "6    ts_diff1_max_browser_version      216.50\n",
      "7    ts_diff1_sum_browser_version      196.80\n",
      "8          ts_diff1_max_user_name      195.85\n",
      "9                       user_name      147.05\n",
      "10  ts_diff1_mean_browser_version      123.30\n",
      "11               ts_diff1_mean_ip      117.95\n",
      "12                bus_system_code      117.55\n",
      "13                       location      104.15\n",
      "14                         action       89.05\n",
      "15                      auth_type       85.30\n",
      "16   ts_diff1_std_browser_version       67.20\n",
      "17                             ip       55.75\n",
      "18         ts_diff1_std_user_name       37.15\n",
      "19                   device_model       29.85\n",
      "20                      op_target       24.60\n",
      "21                   browser_type       21.85\n"
     ]
    }
   ],
   "source": [
    "x_train = train[feature_names]\n",
    "y_train = train['risk_label']\n",
    "x_test  = test[feature_names]\n",
    "\n",
    "def lgb_model(data_, test_, y_):\n",
    "    df_importance_list = []\n",
    "    oof_preds = np.zeros(data_.shape[0])\n",
    "    sub_preds = np.zeros(test_.shape[0])\n",
    "    feature_importance_df = pd.DataFrame()\n",
    "    folds_ = StratifiedKFold(n_splits=20, shuffle=True, random_state=1983)\n",
    "    for n_fold, (trn_idx, val_idx) in enumerate(folds_.split(data_,y_)):\n",
    "        trn_x, trn_y = data_.iloc[trn_idx], y_.iloc[trn_idx]\n",
    "        val_x, val_y = data_.iloc[val_idx], y_.iloc[val_idx]\n",
    "        #cat_feats =  ['auth_type','bus_system_code','browser_type','action']\n",
    "        cat_feats =  ['auth_type','bus_system_code','op_target','browser_type','action']\n",
    "        clf = lgb.LGBMClassifier(\n",
    "                           objective='binary',\n",
    "                           boosting_type='gbdt',\n",
    "                           tree_learner='serial',\n",
    "                           num_leaves=2 ** 8,\n",
    "                           max_depth=16,\n",
    "                           learning_rate=0.2,\n",
    "                           n_estimators=10000,\n",
    "                           subsample=0.75,\n",
    "                           feature_fraction=0.55,\n",
    "                           # max_bin = 63,\n",
    "                           reg_alpha=0.2,\n",
    "                           reg_lambda=0.2,\n",
    "                           random_state=1983,\n",
    "                           is_unbalance=True,\n",
    "                           metric='auc',\n",
    "                        #    device='gpu',\n",
    "                        #    gpu_platform_id=0, \n",
    "                        #    gpu_device_id=0,\n",
    "                           )\n",
    "\n",
    "        clf.fit(trn_x, \n",
    "                trn_y, \n",
    "                eval_set= [(trn_x, trn_y), (val_x, val_y)],\n",
    "                categorical_feature=cat_feats,\n",
    "                eval_metric='auc', \n",
    "                verbose=100, \n",
    "                early_stopping_rounds=40  \n",
    "               )\n",
    "        \n",
    "        vfunc = np.vectorize(lambda x:(x-minmin)/(maxmax-minmin))\n",
    "        oof_preds[val_idx] = clf.predict_proba(val_x, num_iteration=clf.best_iteration_)[:, 1]\n",
    "\n",
    "        # 结果归一化\n",
    "        minmin= min(oof_preds[val_idx])\n",
    "        maxmax= max(oof_preds[val_idx])\n",
    "        oof_preds[val_idx] = vfunc(oof_preds[val_idx])\n",
    "        \n",
    "        sub_preds += clf.predict_proba(test_, num_iteration=clf.best_iteration_)[:, 1] / folds_.n_splits\n",
    "        minmin= min(sub_preds)\n",
    "        maxmax= max(sub_preds)\n",
    "        sub_preds = vfunc(sub_preds)\n",
    "        \n",
    "\n",
    "        df_importance = pd.DataFrame({\n",
    "            'column': feature_names,\n",
    "            'importance': clf.feature_importances_,\n",
    "        })\n",
    "        df_importance_list.append(df_importance)\n",
    "\n",
    "        joblib.dump(clf, './model_du_pkl/lgb_'+ str(n_fold) +'.pkl')   \n",
    "        \n",
    "        print('Fold %2d AUC : %.6f' % (n_fold + 1, roc_auc_score(val_y, oof_preds[val_idx])))   \n",
    "    score  = roc_auc_score(y_, oof_preds)\n",
    "    print('Full AUC score %.6f' % score) \n",
    "\n",
    "    df_importance = pd.concat(df_importance_list)\n",
    "    df_importance = df_importance.groupby(['column'])['importance'].agg(\n",
    "        'mean').sort_values(ascending=False).reset_index()\n",
    "    print(df_importance)\n",
    "    \n",
    "    return oof_preds, sub_preds\n",
    "\n",
    "lgb_train, lgb_test = lgb_model(x_train, x_test, y_train)"
   ]
  },
  {
   "cell_type": "code",
   "execution_count": 29,
   "metadata": {},
   "outputs": [],
   "source": [
    "submit = pd.DataFrame([])\n",
    "submit['id'] = range(len(lgb_test))\n",
    "submit['id'] = submit['id'] + 1\n",
    "submit['ret'] = lgb_test \n",
    "submit.to_csv('results/submit28.csv', index=False)"
   ]
  }
 ],
 "metadata": {
  "kernelspec": {
   "display_name": "Python 3.8.13 64-bit ('3.8.13')",
   "language": "python",
   "name": "python3"
  },
  "language_info": {
   "codemirror_mode": {
    "name": "ipython",
    "version": 3
   },
   "file_extension": ".py",
   "mimetype": "text/x-python",
   "name": "python",
   "nbconvert_exporter": "python",
   "pygments_lexer": "ipython3",
   "version": "3.8.13"
  },
  "orig_nbformat": 4,
  "vscode": {
   "interpreter": {
    "hash": "110cc1dee26208153f2972f08a2ad52b6a56238dc66d48e87fb757ef2996db56"
   }
  }
 },
 "nbformat": 4,
 "nbformat_minor": 2
}
