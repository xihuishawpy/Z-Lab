{
 "cells": [
  {
   "cell_type": "code",
   "execution_count": 7,
   "metadata": {},
   "outputs": [
    {
     "data": {
      "image/png": "[encoded data removed]",
      "text/plain": [
       "<Figure size 432x288 with 2 Axes>"
      ]
     },
     "metadata": {
      "needs_background": "light"
     },
     "output_type": "display_data"
    },
    {
     "name": "stdout",
     "output_type": "stream",
     "text": [
      "          A_0.5285  A_0.5272  A_0.5265  A_0.5224\n",
      "A_0.5285  1.000000  0.929887  0.389241  0.348625\n",
      "A_0.5272  0.929887  1.000000  0.416362  0.351128\n",
      "A_0.5265  0.389241  0.416362  1.000000  0.411888\n",
      "A_0.5224  0.348625  0.351128  0.411888  1.000000\n"
     ]
    }
   ],
   "source": [
    "import pandas as pd\n",
    "from matplotlib.pyplot import plot, show\n",
    "from seaborn import heatmap\n",
    "\n",
    "ans1 = pd.read_csv('results/lgb_5285.csv')  # 嘴爷5285\n",
    "ans2 = pd.read_csv('results/lgb_5272.csv')  # 嘴爷5272\n",
    "ans3 = pd.read_csv('results/submit28.csv')  # 小渡\n",
    "ans4 = pd.read_csv('results/sub_5225.csv')  # 老肥\n",
    "\n",
    "ans = pd.DataFrame()\n",
    "# ans['ans1'] = ans1['ret'].rank()\n",
    "# ans['ans2'] = ans2['ret'].rank()\n",
    "# ans['ans3'] = ans3['ret'].rank()\n",
    "# ans['ans4'] = ans4['ret'].rank()\n",
    "\n",
    "ans['A_0.5285'] = ans1['ret'].rank()\n",
    "ans['A_0.5272'] = ans2['ret'].rank()\n",
    "ans['A_0.5265'] = ans3['ret'].rank()\n",
    "ans['A_0.5224'] = ans4['ret'].rank()\n",
    "heatmap(ans.corr())\n",
    "show()\n",
    "print(ans.corr())\n",
    "\n",
    "\n",
    "\n",
    "# best = pd.read_csv('ans/ans_lgb_202111201304_merge_rank_334.csv')\n",
    "# plot(ans['ret'].rank(), '-x')\n",
    "# plot(best['ret'].rank(), '-x')\n",
    "# show()\n",
    "\n",
    "# ans[['id', 'ret']].to_csv('ans/final.csv', index=False)"
   ]
  },
  {
   "cell_type": "code",
   "execution_count": 8,
   "metadata": {},
   "outputs": [
    {
     "data": {
      "text/html": [
       "<div>\n",
       "<style scoped>\n",
       "    .dataframe tbody tr th:only-of-type {\n",
       "        vertical-align: middle;\n",
       "    }\n",
       "\n",
       "    .dataframe tbody tr th {\n",
       "        vertical-align: top;\n",
       "    }\n",
       "\n",
       "    .dataframe thead th {\n",
       "        text-align: right;\n",
       "    }\n",
       "</style>\n",
       "<table border=\"1\" class=\"dataframe\">\n",
       "  <thead>\n",
       "    <tr style=\"text-align: right;\">\n",
       "      <th></th>\n",
       "      <th>A_0.5285</th>\n",
       "      <th>A_0.5272</th>\n",
       "      <th>A_0.5265</th>\n",
       "      <th>A_0.5224</th>\n",
       "    </tr>\n",
       "  </thead>\n",
       "  <tbody>\n",
       "    <tr>\n",
       "      <th>0</th>\n",
       "      <td>2525.0</td>\n",
       "      <td>1328.0</td>\n",
       "      <td>538.0</td>\n",
       "      <td>1490.0</td>\n",
       "    </tr>\n",
       "    <tr>\n",
       "      <th>1</th>\n",
       "      <td>9575.0</td>\n",
       "      <td>7032.0</td>\n",
       "      <td>4651.0</td>\n",
       "      <td>5679.0</td>\n",
       "    </tr>\n",
       "    <tr>\n",
       "      <th>2</th>\n",
       "      <td>1158.0</td>\n",
       "      <td>1531.0</td>\n",
       "      <td>6477.0</td>\n",
       "      <td>2862.0</td>\n",
       "    </tr>\n",
       "    <tr>\n",
       "      <th>3</th>\n",
       "      <td>6997.0</td>\n",
       "      <td>8180.0</td>\n",
       "      <td>5348.0</td>\n",
       "      <td>7898.0</td>\n",
       "    </tr>\n",
       "    <tr>\n",
       "      <th>4</th>\n",
       "      <td>4060.0</td>\n",
       "      <td>4539.0</td>\n",
       "      <td>4072.0</td>\n",
       "      <td>6157.0</td>\n",
       "    </tr>\n",
       "    <tr>\n",
       "      <th>...</th>\n",
       "      <td>...</td>\n",
       "      <td>...</td>\n",
       "      <td>...</td>\n",
       "      <td>...</td>\n",
       "    </tr>\n",
       "    <tr>\n",
       "      <th>9995</th>\n",
       "      <td>6460.0</td>\n",
       "      <td>4745.0</td>\n",
       "      <td>4607.0</td>\n",
       "      <td>7564.0</td>\n",
       "    </tr>\n",
       "    <tr>\n",
       "      <th>9996</th>\n",
       "      <td>6643.0</td>\n",
       "      <td>6189.0</td>\n",
       "      <td>9297.0</td>\n",
       "      <td>8499.0</td>\n",
       "    </tr>\n",
       "    <tr>\n",
       "      <th>9997</th>\n",
       "      <td>8339.0</td>\n",
       "      <td>8152.0</td>\n",
       "      <td>2890.0</td>\n",
       "      <td>2541.0</td>\n",
       "    </tr>\n",
       "    <tr>\n",
       "      <th>9998</th>\n",
       "      <td>7178.0</td>\n",
       "      <td>7416.0</td>\n",
       "      <td>4503.0</td>\n",
       "      <td>182.0</td>\n",
       "    </tr>\n",
       "    <tr>\n",
       "      <th>9999</th>\n",
       "      <td>5557.0</td>\n",
       "      <td>6275.0</td>\n",
       "      <td>8071.5</td>\n",
       "      <td>9245.0</td>\n",
       "    </tr>\n",
       "  </tbody>\n",
       "</table>\n",
       "<p>10000 rows × 4 columns</p>\n",
       "</div>"
      ],
      "text/plain": [
       "      A_0.5285  A_0.5272  A_0.5265  A_0.5224\n",
       "0       2525.0    1328.0     538.0    1490.0\n",
       "1       9575.0    7032.0    4651.0    5679.0\n",
       "2       1158.0    1531.0    6477.0    2862.0\n",
       "3       6997.0    8180.0    5348.0    7898.0\n",
       "4       4060.0    4539.0    4072.0    6157.0\n",
       "...        ...       ...       ...       ...\n",
       "9995    6460.0    4745.0    4607.0    7564.0\n",
       "9996    6643.0    6189.0    9297.0    8499.0\n",
       "9997    8339.0    8152.0    2890.0    2541.0\n",
       "9998    7178.0    7416.0    4503.0     182.0\n",
       "9999    5557.0    6275.0    8071.5    9245.0\n",
       "\n",
       "[10000 rows x 4 columns]"
      ]
     },
     "execution_count": 8,
     "metadata": {},
     "output_type": "execute_result"
    }
   ],
   "source": [
    "ans"
   ]
  },
  {
   "cell_type": "code",
   "execution_count": 4,
   "metadata": {},
   "outputs": [],
   "source": [
    "ans = ans1.copy()\n",
    "ans['ret'] = ans1['ret'].rank()*0.3 + ans2['ret'].rank()*0.3 + ans3['ret'].rank()*0.4 + ans4['ret'].rank()*0.3\n",
    "ans['ret'] = (ans['ret'] - ans['ret'].min())/(ans['ret'].max() - ans['ret'].min())"
   ]
  }
 ],
 "metadata": {
  "kernelspec": {
   "display_name": "Python 3.8.13 64-bit ('3.8.13')",
   "language": "python",
   "name": "python3"
  },
  "language_info": {
   "codemirror_mode": {
    "name": "ipython",
    "version": 3
   },
   "file_extension": ".py",
   "mimetype": "text/x-python",
   "name": "python",
   "nbconvert_exporter": "python",
   "pygments_lexer": "ipython3",
   "version": "3.8.13"
  },
  "orig_nbformat": 4,
  "vscode": {
   "interpreter": {
    "hash": "110cc1dee26208153f2972f08a2ad52b6a56238dc66d48e87fb757ef2996db56"
   }
  }
 },
 "nbformat": 4,
 "nbformat_minor": 2
}
